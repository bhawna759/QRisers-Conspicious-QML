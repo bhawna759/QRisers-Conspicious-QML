{
 "cells": [
  {
   "cell_type": "markdown",
   "id": "7b5fd4b6",
   "metadata": {
    "height": 30
   },
   "source": [
    "# JAX Code for CNN in python for quantum computing"
   ]
  },
  {
   "cell_type": "code",
   "execution_count": 1,
   "id": "31ff6bc5",
   "metadata": {
    "height": 47
   },
   "outputs": [],
   "source": [
    "# Here is a simple example of a CNN in JAX for quantum computing using amplitude encoding with PennyLane\n",
    "# on the MNIST dataset with 50 training samples and 30 testing samples:"
   ]
  },
  {
   "cell_type": "code",
   "execution_count": null,
   "id": "0e6d7256",
   "metadata": {
    "height": 965
   },
   "outputs": [],
   "source": [
    "import jax.numpy as jnp\n",
    "from jax import random, grad, jit\n",
    "import pennylane as qml\n",
    "from pennylane.templates import AmplitudeEmbedding\n",
    "from pennylane.templates.layers import StronglyEntanglingLayers\n",
    "\n",
    "# Define the quantum device\n",
    "dev = qml.device(\"default.qubit\", wires=4)\n",
    "\n",
    "# Define the quantum circuit\n",
    "@qml.qnode(dev)\n",
    "def quantum_circuit(inputs, weights):\n",
    "    AmplitudeEmbedding(inputs, wires=range(4))\n",
    "    StronglyEntanglingLayers(weights, wires=range(4))\n",
    "    return [qml.expval(qml.PauliZ(wires=i)) for i in range(4)]\n",
    "\n",
    "# Initialize the weights\n",
    "weights = random.uniform(random.PRNGKey(0), (2, 4, 4))\n",
    "\n",
    "# Define the quantum neural network\n",
    "def quantum_neural_network(inputs, weights):\n",
    "    return quantum_circuit(inputs, weights)\n",
    "\n",
    "# Define the loss function\n",
    "def loss(weights, inputs, targets):\n",
    "    predictions = quantum_neural_network(inputs, weights)\n",
    "    return jnp.mean((predictions - targets) ** 2)\n",
    "\n",
    "# Initialize the optimizer\n",
    "opt = qml.GradientDescentOptimizer(0.1)\n",
    "\n",
    "# Load MNIST dataset\n",
    "from sklearn.datasets import fetch_openml\n",
    "from sklearn.model_selection import train_test_split\n",
    "\n",
    "mnist = fetch_openml('mnist_784')\n",
    "X, y = mnist.data, mnist.target\n",
    "X_train, X_test, y_train, y_test = train_test_split(X, y, train_size=50, test_size=30)\n",
    "\n",
    "# Preprocess the data\n",
    "X_train = X_train / 255.0\n",
    "X_test = X_test / 255.0\n",
    "\n",
    "# Training\n",
    "for i in range(100):\n",
    "    batch_index = random.randint(random.PRNGKey(i), (50,), 0, len(X_train))\n",
    "    inputs = X_train[batch_index]\n",
    "    targets = y_train[batch_index]\n",
    "    weights = opt.step(lambda w: loss(w, inputs, targets), weights)\n",
    "\n",
    "# Testing\n",
    "test_inputs = X_test\n",
    "test_targets = y_test\n",
    "predictions = quantum_neural_network(test_inputs, weights)\n",
    "accuracy = jnp.mean((predictions - test_targets) ** 2)\n",
    "print(\"Test accuracy:\", accuracy)"
   ]
  }
 ],
 "metadata": {
  "kernelspec": {
   "display_name": "Python 3 (ipykernel)",
   "language": "python",
   "name": "python3"
  },
  "language_info": {
   "codemirror_mode": {
    "name": "ipython",
    "version": 3
   },
   "file_extension": ".py",
   "mimetype": "text/x-python",
   "name": "python",
   "nbconvert_exporter": "python",
   "pygments_lexer": "ipython3",
   "version": "3.9.19"
  }
 },
 "nbformat": 4,
 "nbformat_minor": 5
}
