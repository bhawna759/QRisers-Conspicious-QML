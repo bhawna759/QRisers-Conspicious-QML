{
  "cells": [
    {
      "cell_type": "markdown",
      "id": "db21761f-2393-4c3d-91ce-29c930de6580",
      "metadata": {
        "id": "db21761f-2393-4c3d-91ce-29c930de6580"
      },
      "source": [
        "**Quanvolutional Neural Networks**\n",
        "\n",
        "A Quantum Neural Network (QNN) is a type of neural network that leverages the principles of quantum computing to enhance the performance of traditional machine learning models. It combines quantum computing techniques with classical neural networks, aiming to take advantage of quantum mechanics' properties, such as superposition, entanglement, and quantum parallelism."
      ]
    },
    {
      "cell_type": "markdown",
      "source": [
        "**Import statements**"
      ],
      "metadata": {
        "id": "SoAknGUicphi"
      },
      "id": "SoAknGUicphi"
    },
    {
      "cell_type": "code",
      "execution_count": 6,
      "id": "f5eb99c4-cdd8-40f6-8dfe-23e44ae1ba38",
      "metadata": {
        "id": "f5eb99c4-cdd8-40f6-8dfe-23e44ae1ba38"
      },
      "outputs": [],
      "source": [
        "import pennylane as qml\n",
        "import tensorflow as tf\n",
        "import numpy as np\n",
        "import matplotlib.pyplot as plt\n",
        "from tensorflow import keras\n",
        "from tensorflow.keras.datasets import mnist\n",
        "from tensorflow.keras.utils import to_categorical\n",
        "from silence_tensorflow import silence_tensorflow\n",
        "silence_tensorflow()\n"
      ]
    },
    {
      "cell_type": "markdown",
      "id": "12beb0d6-ed72-4ea5-8baa-18354e8cd36b",
      "metadata": {
        "id": "12beb0d6-ed72-4ea5-8baa-18354e8cd36b"
      },
      "source": [
        "**Load and Preprocess MNIST Dataset**\n",
        "\n",
        "1. In this code, we're preparing a smaller subset of the MNIST dataset for quick experimentation.\n",
        "2. The MNIST dataset, which consists of 28x28 pixel grayscale images of handwritten digits, is typically large with 60,000 training images and 10,000 test images.\n",
        "3. To make the dataset more manageable, we reduce its size by selecting only the first 60 images and their labels for training, and the first 40 images and their labels for testing. This is done by slicing the arrays accordingly.\n",
        "4. The number of epochs is set to 60, which determines how many times the model will iterate over the training data during training."
      ]
    },
    {
      "cell_type": "code",
      "execution_count": 7,
      "id": "6e3d5efa-62f2-4bb2-82d2-d1670db83e8a",
      "metadata": {
        "colab": {
          "base_uri": "https://localhost:8080/"
        },
        "id": "6e3d5efa-62f2-4bb2-82d2-d1670db83e8a",
        "outputId": "a8ea4f7f-fb46-4a63-9363-d4721d35f50f"
      },
      "outputs": [
        {
          "output_type": "stream",
          "name": "stdout",
          "text": [
            "Downloading data from https://storage.googleapis.com/tensorflow/tf-keras-datasets/mnist.npz\n",
            "\u001b[1m11490434/11490434\u001b[0m \u001b[32m━━━━━━━━━━━━━━━━━━━━\u001b[0m\u001b[37m\u001b[0m \u001b[1m0s\u001b[0m 0us/step\n"
          ]
        }
      ],
      "source": [
        "# Load and preprocess MNIST dataset\n",
        "n_train = 60    # Size of the train dataset\n",
        "n_test = 40     # Size of the test dataset\n",
        "n_epochs = 60\n",
        "\n",
        "mnist_dataset = keras.datasets.mnist\n",
        "(x_train, y_train), (x_test, y_test) = mnist_dataset.load_data()\n",
        "\n",
        "# Reduce dataset size\n",
        "x_train = x_train[:n_train]\n",
        "y_train = y_train[:n_train]\n",
        "x_test = x_test[:n_test]\n",
        "y_test = y_test[:n_test]\n",
        "\n",
        "# Normalize pixel values within 0 and 1\n",
        "x_train = x_train / 255.0\n",
        "x_test = x_test / 255.0\n",
        "\n",
        "# Add extra dimension for convolution channels\n",
        "x_train = np.expand_dims(x_train, axis=-1)  # (n_train, 28, 28, 1)\n",
        "x_test = np.expand_dims(x_test, axis=-1)    # (n_test, 28, 28, 1)\n"
      ]
    },
    {
      "cell_type": "markdown",
      "id": "39e15948-ab12-4b12-92f7-c29c9a64db7d",
      "metadata": {
        "id": "39e15948-ab12-4b12-92f7-c29c9a64db7d"
      },
      "source": [
        "**Feature Reduction**\n",
        "1.Flattening the Images: The function flattens each image in the dataset. For example, if you have 28x28 pixel images, flattening them will convert each image into a 784-dimensional vector.\n",
        "2.Selecting Features: After flattening, the function selects only the first 4 features from these flattened vectors. This is done to reduce the dimensionality to match the requirements of your quantum circuit.\n"
      ]
    },
    {
      "cell_type": "code",
      "execution_count": 8,
      "id": "a2e4a2c1-8723-4205-a371-a4665f621afa",
      "metadata": {
        "id": "a2e4a2c1-8723-4205-a371-a4665f621afa"
      },
      "outputs": [],
      "source": [
        "import numpy as np\n",
        "\n",
        "def feature_reduction(x):\n",
        "    \"\"\"\n",
        "    Reduces the feature dimension of the input data by flattening images and selecting only the first 4 features.\n",
        "\n",
        "    Args:\n",
        "    x (np.ndarray): Input data, expected to be a 4D array of shape (num_samples, height, width, channels).\n",
        "\n",
        "    Returns:\n",
        "    np.ndarray: Reduced feature data of shape (num_samples, 4).\n",
        "    \"\"\"\n",
        "    # Flatten each image in the dataset\n",
        "    x_flattened = x.reshape(x.shape[0], -1)  # Reshape to (num_samples, height*width*channels)\n",
        "\n",
        "    # Select only the first 4 features\n",
        "    x_reduced = x_flattened[:, :4]  # Select first 4 features\n",
        "\n",
        "    return x_reduced\n",
        "\n",
        "# Example usage with x_train and x_test\n",
        "x_train_reduced = feature_reduction(x_train)\n",
        "x_test_reduced = feature_reduction(x_test)\n"
      ]
    },
    {
      "cell_type": "markdown",
      "id": "08b4fee8-c2b7-4a47-bd4e-0e812347df87",
      "metadata": {
        "id": "08b4fee8-c2b7-4a47-bd4e-0e812347df87"
      },
      "source": [
        "**One-Hot Encoding**\n",
        "\n",
        "1. Labels are converted to a one-hot format suitable for classification tasks, where each label is represented as a vector of length 10."
      ]
    },
    {
      "cell_type": "code",
      "execution_count": 9,
      "id": "ae03c498-0b2a-4c62-9346-36c596b4d2cf",
      "metadata": {
        "id": "ae03c498-0b2a-4c62-9346-36c596b4d2cf"
      },
      "outputs": [],
      "source": [
        "# Convert labels to one-hot encoding\n",
        "y_train = to_categorical(y_train, 10)  # Ensure shape is (n_train, 10)\n",
        "y_test = to_categorical(y_test, 10)    # Ensure shape is (n_test, 10)\n"
      ]
    },
    {
      "cell_type": "markdown",
      "id": "e4b20d6b-cc43-4d79-b4cd-72749a65fde0",
      "metadata": {
        "id": "e4b20d6b-cc43-4d79-b4cd-72749a65fde0"
      },
      "source": [
        "**Define Quantum Circuit**\n",
        "\n",
        "The qnn_circuit function defines a quantum neural network circuit that encodes classical input features into quantum states using the AngleEmbedding template, applies parameterized entangling gates with BasicEntanglerLayers, and then measures the expectation value of the Pauli-Z operator on the first qubit. This quantum circuit is designed for tasks such as classification, where the weights are optimized to improve performance based on the measurement outcomes."
      ]
    },
    {
      "cell_type": "code",
      "execution_count": 11,
      "id": "40d333a2-033a-4dcf-8485-f4e2c3908795",
      "metadata": {
        "id": "40d333a2-033a-4dcf-8485-f4e2c3908795"
      },
      "outputs": [],
      "source": [
        "# Define a quantum circuit\n",
        "def qnn_circuit(inputs, weights):\n",
        "    qml.templates.AngleEmbedding(features=inputs, wires=range(4))\n",
        "    qml.templates.BasicEntanglerLayers(weights, wires=range(4))\n",
        "    return qml.expval(qml.PauliZ(0))\n"
      ]
    },
    {
      "cell_type": "markdown",
      "id": "f5db22fe-349a-4612-9de5-7c2b0fb0ad6a",
      "metadata": {
        "id": "f5db22fe-349a-4612-9de5-7c2b0fb0ad6a"
      },
      "source": [
        "**Create Quantum Device**\n",
        "\n",
        "1. A quantum device with 4 qubits is created using PennyLane’s default simulator."
      ]
    },
    {
      "cell_type": "code",
      "execution_count": 12,
      "id": "f39dc232-c2ac-4b7d-bee7-a26c89cc8c76",
      "metadata": {
        "id": "f39dc232-c2ac-4b7d-bee7-a26c89cc8c76"
      },
      "outputs": [],
      "source": [
        "# Create a quantum device\n",
        "dev = qml.device(\"default.qubit\", wires=4)\n"
      ]
    },
    {
      "cell_type": "markdown",
      "id": "7611d452-7b23-4e68-bfc6-622f3cbf56ba",
      "metadata": {
        "id": "7611d452-7b23-4e68-bfc6-622f3cbf56ba"
      },
      "source": [
        "**Define Custom Keras Layer for Quantum Computation**\n",
        "1. In this section, we created a custom TensorFlow Keras layer, QuantumLayer, to integrate a quantum circuit into a neural network.\n",
        "2. We initialized trainable weights for the quantum circuit, converted inputs and weights to TensorFlow tensors, and defined a quantum node to process the data through the quantum circuit.\n",
        "3. Finally, we reshaped the output to match the required format. This setup allows incorporating quantum computations into a standard Keras model for hybrid quantum-classical machine learning tasks."
      ]
    },
    {
      "cell_type": "code",
      "execution_count": 13,
      "id": "014ee10b-1de4-4508-8710-25c67304e7d4",
      "metadata": {
        "id": "014ee10b-1de4-4508-8710-25c67304e7d4"
      },
      "outputs": [],
      "source": [
        "class QuantumLayer(tf.keras.layers.Layer):\n",
        "    def __init__(self, **kwargs):\n",
        "        super(QuantumLayer, self).__init__(**kwargs)\n",
        "        # Initialize weights as trainable parameters\n",
        "        self._weights = self.add_weight(\n",
        "            shape=(4, 4),  # Adjust shape to match the circuit requirements\n",
        "            initializer='random_normal',\n",
        "            trainable=True,\n",
        "            name='quantum_weights'\n",
        "        )\n",
        "\n",
        "    def call(self, inputs):\n",
        "        # Ensure inputs are in the correct shape and type\n",
        "        inputs = tf.convert_to_tensor(inputs, dtype=tf.float32)\n",
        "        weights = tf.convert_to_tensor(self._weights, dtype=tf.float32)\n",
        "\n",
        "        # Define a quantum node\n",
        "        @qml.qnode(dev, interface='tf')\n",
        "        def quantum_node(inputs, weights):\n",
        "            return qnn_circuit(inputs, weights)\n",
        "\n",
        "        # Get results from quantum node\n",
        "        result = quantum_node(inputs, weights)\n",
        "\n",
        "        # Convert the result back to a TensorFlow tensor and ensure correct shape\n",
        "        return tf.reshape(result, (-1, 1))  # Ensure output shape is [batch_size, 1]\n"
      ]
    },
    {
      "cell_type": "markdown",
      "id": "4957cade-6a5c-4f57-a1b3-56c58b9e5873",
      "metadata": {
        "id": "4957cade-6a5c-4f57-a1b3-56c58b9e5873"
      },
      "source": [
        "**Define and Compile the Model**\n",
        "1. Optimizer: Adam, for optimizing the model’s weights.\n",
        "2. Loss Function: Categorical crossentropy, for multi-class classification.\n",
        "3. Metrics: Accuracy, to evaluate model performance."
      ]
    },
    {
      "cell_type": "code",
      "execution_count": 14,
      "id": "0b310cce-23c9-4559-9c65-176246d0c3c2",
      "metadata": {
        "id": "0b310cce-23c9-4559-9c65-176246d0c3c2"
      },
      "outputs": [],
      "source": [
        "# Define the model\n",
        "def create_qnn_model():\n",
        "    model = tf.keras.Sequential([\n",
        "        tf.keras.layers.InputLayer(shape=(4,)),  # Adjust input shape to match feature reduction\n",
        "        QuantumLayer(),\n",
        "        tf.keras.layers.Dense(10, activation='softmax')  # Dense layer expects shape [batch_size, 10]\n",
        "    ])\n",
        "    return model\n",
        "\n",
        "# Create and compile the model\n",
        "model = create_qnn_model()\n",
        "model.compile(optimizer='adam', loss='categorical_crossentropy', metrics=['accuracy'])\n"
      ]
    },
    {
      "cell_type": "markdown",
      "id": "2944724b-3fcf-4b84-a418-30a865cbdbda",
      "metadata": {
        "id": "2944724b-3fcf-4b84-a418-30a865cbdbda"
      },
      "source": [
        "**Train and Evaluate the Model**\n",
        "\n",
        "1. Training: The model is trained for a specified number of epochs with a batch size of 4 and a validation split of 20%.\n",
        "2. Evaluation: The model is evaluated on the test set to obtain accuracy."
      ]
    },
    {
      "cell_type": "code",
      "execution_count": 21,
      "id": "167602be-a4c8-4975-af66-7361a89b9a21",
      "metadata": {
        "colab": {
          "base_uri": "https://localhost:8080/"
        },
        "id": "167602be-a4c8-4975-af66-7361a89b9a21",
        "outputId": "cbf7ed84-95b7-4516-d418-75c0429cad9b"
      },
      "outputs": [
        {
          "output_type": "stream",
          "name": "stdout",
          "text": [
            "Epoch 1/60\n",
            "\u001b[1m14/14\u001b[0m \u001b[32m━━━━━━━━━━━━━━━━━━━━\u001b[0m\u001b[37m\u001b[0m \u001b[1m0s\u001b[0m 15ms/step - accuracy: 0.0681 - loss: 2.3249 - val_accuracy: 0.1667 - val_loss: 2.3323\n",
            "Epoch 2/60\n",
            "\u001b[1m14/14\u001b[0m \u001b[32m━━━━━━━━━━━━━━━━━━━━\u001b[0m\u001b[37m\u001b[0m \u001b[1m0s\u001b[0m 10ms/step - accuracy: 0.1047 - loss: 2.2755 - val_accuracy: 0.1667 - val_loss: 2.3321\n",
            "Epoch 3/60\n",
            "\u001b[1m14/14\u001b[0m \u001b[32m━━━━━━━━━━━━━━━━━━━━\u001b[0m\u001b[37m\u001b[0m \u001b[1m0s\u001b[0m 10ms/step - accuracy: 0.1631 - loss: 2.2582 - val_accuracy: 0.1667 - val_loss: 2.3301\n",
            "Epoch 4/60\n",
            "\u001b[1m14/14\u001b[0m \u001b[32m━━━━━━━━━━━━━━━━━━━━\u001b[0m\u001b[37m\u001b[0m \u001b[1m0s\u001b[0m 10ms/step - accuracy: 0.1377 - loss: 2.2905 - val_accuracy: 0.1667 - val_loss: 2.3287\n",
            "Epoch 5/60\n",
            "\u001b[1m14/14\u001b[0m \u001b[32m━━━━━━━━━━━━━━━━━━━━\u001b[0m\u001b[37m\u001b[0m \u001b[1m0s\u001b[0m 10ms/step - accuracy: 0.1063 - loss: 2.3354 - val_accuracy: 0.1667 - val_loss: 2.3284\n",
            "Epoch 6/60\n",
            "\u001b[1m14/14\u001b[0m \u001b[32m━━━━━━━━━━━━━━━━━━━━\u001b[0m\u001b[37m\u001b[0m \u001b[1m0s\u001b[0m 10ms/step - accuracy: 0.1783 - loss: 2.2896 - val_accuracy: 0.1667 - val_loss: 2.3283\n",
            "Epoch 7/60\n",
            "\u001b[1m14/14\u001b[0m \u001b[32m━━━━━━━━━━━━━━━━━━━━\u001b[0m\u001b[37m\u001b[0m \u001b[1m0s\u001b[0m 19ms/step - accuracy: 0.0898 - loss: 2.3217 - val_accuracy: 0.1667 - val_loss: 2.3263\n",
            "Epoch 8/60\n",
            "\u001b[1m14/14\u001b[0m \u001b[32m━━━━━━━━━━━━━━━━━━━━\u001b[0m\u001b[37m\u001b[0m \u001b[1m1s\u001b[0m 15ms/step - accuracy: 0.1567 - loss: 2.2516 - val_accuracy: 0.1667 - val_loss: 2.3253\n",
            "Epoch 9/60\n",
            "\u001b[1m14/14\u001b[0m \u001b[32m━━━━━━━━━━━━━━━━━━━━\u001b[0m\u001b[37m\u001b[0m \u001b[1m0s\u001b[0m 19ms/step - accuracy: 0.1485 - loss: 2.3016 - val_accuracy: 0.1667 - val_loss: 2.3233\n",
            "Epoch 10/60\n",
            "\u001b[1m14/14\u001b[0m \u001b[32m━━━━━━━━━━━━━━━━━━━━\u001b[0m\u001b[37m\u001b[0m \u001b[1m0s\u001b[0m 18ms/step - accuracy: 0.1372 - loss: 2.2947 - val_accuracy: 0.1667 - val_loss: 2.3224\n",
            "Epoch 11/60\n",
            "\u001b[1m14/14\u001b[0m \u001b[32m━━━━━━━━━━━━━━━━━━━━\u001b[0m\u001b[37m\u001b[0m \u001b[1m0s\u001b[0m 18ms/step - accuracy: 0.1131 - loss: 2.3372 - val_accuracy: 0.1667 - val_loss: 2.3224\n",
            "Epoch 12/60\n",
            "\u001b[1m14/14\u001b[0m \u001b[32m━━━━━━━━━━━━━━━━━━━━\u001b[0m\u001b[37m\u001b[0m \u001b[1m0s\u001b[0m 21ms/step - accuracy: 0.0756 - loss: 2.2752 - val_accuracy: 0.1667 - val_loss: 2.3212\n",
            "Epoch 13/60\n",
            "\u001b[1m14/14\u001b[0m \u001b[32m━━━━━━━━━━━━━━━━━━━━\u001b[0m\u001b[37m\u001b[0m \u001b[1m1s\u001b[0m 14ms/step - accuracy: 0.1050 - loss: 2.3317 - val_accuracy: 0.1667 - val_loss: 2.3195\n",
            "Epoch 14/60\n",
            "\u001b[1m14/14\u001b[0m \u001b[32m━━━━━━━━━━━━━━━━━━━━\u001b[0m\u001b[37m\u001b[0m \u001b[1m0s\u001b[0m 10ms/step - accuracy: 0.1341 - loss: 2.2946 - val_accuracy: 0.1667 - val_loss: 2.3191\n",
            "Epoch 15/60\n",
            "\u001b[1m14/14\u001b[0m \u001b[32m━━━━━━━━━━━━━━━━━━━━\u001b[0m\u001b[37m\u001b[0m \u001b[1m0s\u001b[0m 13ms/step - accuracy: 0.1338 - loss: 2.2916 - val_accuracy: 0.1667 - val_loss: 2.3185\n",
            "Epoch 16/60\n",
            "\u001b[1m14/14\u001b[0m \u001b[32m━━━━━━━━━━━━━━━━━━━━\u001b[0m\u001b[37m\u001b[0m \u001b[1m0s\u001b[0m 10ms/step - accuracy: 0.1589 - loss: 2.2768 - val_accuracy: 0.1667 - val_loss: 2.3183\n",
            "Epoch 17/60\n",
            "\u001b[1m14/14\u001b[0m \u001b[32m━━━━━━━━━━━━━━━━━━━━\u001b[0m\u001b[37m\u001b[0m \u001b[1m0s\u001b[0m 10ms/step - accuracy: 0.0787 - loss: 2.3008 - val_accuracy: 0.1667 - val_loss: 2.3160\n",
            "Epoch 18/60\n",
            "\u001b[1m14/14\u001b[0m \u001b[32m━━━━━━━━━━━━━━━━━━━━\u001b[0m\u001b[37m\u001b[0m \u001b[1m0s\u001b[0m 11ms/step - accuracy: 0.1006 - loss: 2.3114 - val_accuracy: 0.1667 - val_loss: 2.3151\n",
            "Epoch 19/60\n",
            "\u001b[1m14/14\u001b[0m \u001b[32m━━━━━━━━━━━━━━━━━━━━\u001b[0m\u001b[37m\u001b[0m \u001b[1m0s\u001b[0m 10ms/step - accuracy: 0.0649 - loss: 2.3369 - val_accuracy: 0.1667 - val_loss: 2.3151\n",
            "Epoch 20/60\n",
            "\u001b[1m14/14\u001b[0m \u001b[32m━━━━━━━━━━━━━━━━━━━━\u001b[0m\u001b[37m\u001b[0m \u001b[1m0s\u001b[0m 10ms/step - accuracy: 0.1329 - loss: 2.2502 - val_accuracy: 0.1667 - val_loss: 2.3129\n",
            "Epoch 21/60\n",
            "\u001b[1m14/14\u001b[0m \u001b[32m━━━━━━━━━━━━━━━━━━━━\u001b[0m\u001b[37m\u001b[0m \u001b[1m0s\u001b[0m 11ms/step - accuracy: 0.1711 - loss: 2.2825 - val_accuracy: 0.1667 - val_loss: 2.3125\n",
            "Epoch 22/60\n",
            "\u001b[1m14/14\u001b[0m \u001b[32m━━━━━━━━━━━━━━━━━━━━\u001b[0m\u001b[37m\u001b[0m \u001b[1m0s\u001b[0m 10ms/step - accuracy: 0.0855 - loss: 2.3202 - val_accuracy: 0.1667 - val_loss: 2.3103\n",
            "Epoch 23/60\n",
            "\u001b[1m14/14\u001b[0m \u001b[32m━━━━━━━━━━━━━━━━━━━━\u001b[0m\u001b[37m\u001b[0m \u001b[1m0s\u001b[0m 10ms/step - accuracy: 0.1976 - loss: 2.2582 - val_accuracy: 0.1667 - val_loss: 2.3112\n",
            "Epoch 24/60\n",
            "\u001b[1m14/14\u001b[0m \u001b[32m━━━━━━━━━━━━━━━━━━━━\u001b[0m\u001b[37m\u001b[0m \u001b[1m0s\u001b[0m 10ms/step - accuracy: 0.1284 - loss: 2.3210 - val_accuracy: 0.1667 - val_loss: 2.3097\n",
            "Epoch 25/60\n",
            "\u001b[1m14/14\u001b[0m \u001b[32m━━━━━━━━━━━━━━━━━━━━\u001b[0m\u001b[37m\u001b[0m \u001b[1m0s\u001b[0m 10ms/step - accuracy: 0.1244 - loss: 2.3019 - val_accuracy: 0.1667 - val_loss: 2.3080\n",
            "Epoch 26/60\n",
            "\u001b[1m14/14\u001b[0m \u001b[32m━━━━━━━━━━━━━━━━━━━━\u001b[0m\u001b[37m\u001b[0m \u001b[1m0s\u001b[0m 11ms/step - accuracy: 0.1057 - loss: 2.3097 - val_accuracy: 0.1667 - val_loss: 2.3068\n",
            "Epoch 27/60\n",
            "\u001b[1m14/14\u001b[0m \u001b[32m━━━━━━━━━━━━━━━━━━━━\u001b[0m\u001b[37m\u001b[0m \u001b[1m0s\u001b[0m 11ms/step - accuracy: 0.1048 - loss: 2.3033 - val_accuracy: 0.1667 - val_loss: 2.3067\n",
            "Epoch 28/60\n",
            "\u001b[1m14/14\u001b[0m \u001b[32m━━━━━━━━━━━━━━━━━━━━\u001b[0m\u001b[37m\u001b[0m \u001b[1m0s\u001b[0m 10ms/step - accuracy: 0.1906 - loss: 2.2521 - val_accuracy: 0.1667 - val_loss: 2.3054\n",
            "Epoch 29/60\n",
            "\u001b[1m14/14\u001b[0m \u001b[32m━━━━━━━━━━━━━━━━━━━━\u001b[0m\u001b[37m\u001b[0m \u001b[1m0s\u001b[0m 12ms/step - accuracy: 0.1771 - loss: 2.2667 - val_accuracy: 0.1667 - val_loss: 2.3029\n",
            "Epoch 30/60\n",
            "\u001b[1m14/14\u001b[0m \u001b[32m━━━━━━━━━━━━━━━━━━━━\u001b[0m\u001b[37m\u001b[0m \u001b[1m0s\u001b[0m 10ms/step - accuracy: 0.0818 - loss: 2.2800 - val_accuracy: 0.1667 - val_loss: 2.3043\n",
            "Epoch 31/60\n",
            "\u001b[1m14/14\u001b[0m \u001b[32m━━━━━━━━━━━━━━━━━━━━\u001b[0m\u001b[37m\u001b[0m \u001b[1m0s\u001b[0m 11ms/step - accuracy: 0.0649 - loss: 2.3200 - val_accuracy: 0.1667 - val_loss: 2.3021\n",
            "Epoch 32/60\n",
            "\u001b[1m14/14\u001b[0m \u001b[32m━━━━━━━━━━━━━━━━━━━━\u001b[0m\u001b[37m\u001b[0m \u001b[1m0s\u001b[0m 12ms/step - accuracy: 0.0609 - loss: 2.3360 - val_accuracy: 0.1667 - val_loss: 2.3012\n",
            "Epoch 33/60\n",
            "\u001b[1m14/14\u001b[0m \u001b[32m━━━━━━━━━━━━━━━━━━━━\u001b[0m\u001b[37m\u001b[0m \u001b[1m0s\u001b[0m 11ms/step - accuracy: 0.1347 - loss: 2.2610 - val_accuracy: 0.1667 - val_loss: 2.3017\n",
            "Epoch 34/60\n",
            "\u001b[1m14/14\u001b[0m \u001b[32m━━━━━━━━━━━━━━━━━━━━\u001b[0m\u001b[37m\u001b[0m \u001b[1m0s\u001b[0m 10ms/step - accuracy: 0.1006 - loss: 2.2923 - val_accuracy: 0.1667 - val_loss: 2.3004\n",
            "Epoch 35/60\n",
            "\u001b[1m14/14\u001b[0m \u001b[32m━━━━━━━━━━━━━━━━━━━━\u001b[0m\u001b[37m\u001b[0m \u001b[1m0s\u001b[0m 12ms/step - accuracy: 0.0770 - loss: 2.3287 - val_accuracy: 0.1667 - val_loss: 2.2999\n",
            "Epoch 36/60\n",
            "\u001b[1m14/14\u001b[0m \u001b[32m━━━━━━━━━━━━━━━━━━━━\u001b[0m\u001b[37m\u001b[0m \u001b[1m0s\u001b[0m 10ms/step - accuracy: 0.1119 - loss: 2.3423 - val_accuracy: 0.1667 - val_loss: 2.2985\n",
            "Epoch 37/60\n",
            "\u001b[1m14/14\u001b[0m \u001b[32m━━━━━━━━━━━━━━━━━━━━\u001b[0m\u001b[37m\u001b[0m \u001b[1m0s\u001b[0m 13ms/step - accuracy: 0.0938 - loss: 2.2921 - val_accuracy: 0.1667 - val_loss: 2.2989\n",
            "Epoch 38/60\n",
            "\u001b[1m14/14\u001b[0m \u001b[32m━━━━━━━━━━━━━━━━━━━━\u001b[0m\u001b[37m\u001b[0m \u001b[1m0s\u001b[0m 10ms/step - accuracy: 0.1300 - loss: 2.2750 - val_accuracy: 0.1667 - val_loss: 2.2979\n",
            "Epoch 39/60\n",
            "\u001b[1m14/14\u001b[0m \u001b[32m━━━━━━━━━━━━━━━━━━━━\u001b[0m\u001b[37m\u001b[0m \u001b[1m0s\u001b[0m 11ms/step - accuracy: 0.2284 - loss: 2.2227 - val_accuracy: 0.1667 - val_loss: 2.2981\n",
            "Epoch 40/60\n",
            "\u001b[1m14/14\u001b[0m \u001b[32m━━━━━━━━━━━━━━━━━━━━\u001b[0m\u001b[37m\u001b[0m \u001b[1m0s\u001b[0m 11ms/step - accuracy: 0.1612 - loss: 2.3185 - val_accuracy: 0.1667 - val_loss: 2.2959\n",
            "Epoch 41/60\n",
            "\u001b[1m14/14\u001b[0m \u001b[32m━━━━━━━━━━━━━━━━━━━━\u001b[0m\u001b[37m\u001b[0m \u001b[1m0s\u001b[0m 11ms/step - accuracy: 0.1409 - loss: 2.2476 - val_accuracy: 0.1667 - val_loss: 2.2950\n",
            "Epoch 42/60\n",
            "\u001b[1m14/14\u001b[0m \u001b[32m━━━━━━━━━━━━━━━━━━━━\u001b[0m\u001b[37m\u001b[0m \u001b[1m0s\u001b[0m 11ms/step - accuracy: 0.1732 - loss: 2.2694 - val_accuracy: 0.1667 - val_loss: 2.2939\n",
            "Epoch 43/60\n",
            "\u001b[1m14/14\u001b[0m \u001b[32m━━━━━━━━━━━━━━━━━━━━\u001b[0m\u001b[37m\u001b[0m \u001b[1m0s\u001b[0m 10ms/step - accuracy: 0.1480 - loss: 2.2847 - val_accuracy: 0.1667 - val_loss: 2.2926\n",
            "Epoch 44/60\n",
            "\u001b[1m14/14\u001b[0m \u001b[32m━━━━━━━━━━━━━━━━━━━━\u001b[0m\u001b[37m\u001b[0m \u001b[1m0s\u001b[0m 13ms/step - accuracy: 0.0499 - loss: 2.2968 - val_accuracy: 0.1667 - val_loss: 2.2909\n",
            "Epoch 45/60\n",
            "\u001b[1m14/14\u001b[0m \u001b[32m━━━━━━━━━━━━━━━━━━━━\u001b[0m\u001b[37m\u001b[0m \u001b[1m0s\u001b[0m 12ms/step - accuracy: 0.2181 - loss: 2.2216 - val_accuracy: 0.1667 - val_loss: 2.2907\n",
            "Epoch 46/60\n",
            "\u001b[1m14/14\u001b[0m \u001b[32m━━━━━━━━━━━━━━━━━━━━\u001b[0m\u001b[37m\u001b[0m \u001b[1m0s\u001b[0m 11ms/step - accuracy: 0.1369 - loss: 2.2836 - val_accuracy: 0.1667 - val_loss: 2.2896\n",
            "Epoch 47/60\n",
            "\u001b[1m14/14\u001b[0m \u001b[32m━━━━━━━━━━━━━━━━━━━━\u001b[0m\u001b[37m\u001b[0m \u001b[1m0s\u001b[0m 10ms/step - accuracy: 0.1415 - loss: 2.3228 - val_accuracy: 0.1667 - val_loss: 2.2888\n",
            "Epoch 48/60\n",
            "\u001b[1m14/14\u001b[0m \u001b[32m━━━━━━━━━━━━━━━━━━━━\u001b[0m\u001b[37m\u001b[0m \u001b[1m0s\u001b[0m 10ms/step - accuracy: 0.1486 - loss: 2.2378 - val_accuracy: 0.1667 - val_loss: 2.2891\n",
            "Epoch 49/60\n",
            "\u001b[1m14/14\u001b[0m \u001b[32m━━━━━━━━━━━━━━━━━━━━\u001b[0m\u001b[37m\u001b[0m \u001b[1m0s\u001b[0m 10ms/step - accuracy: 0.0589 - loss: 2.2819 - val_accuracy: 0.1667 - val_loss: 2.2878\n",
            "Epoch 50/60\n",
            "\u001b[1m14/14\u001b[0m \u001b[32m━━━━━━━━━━━━━━━━━━━━\u001b[0m\u001b[37m\u001b[0m \u001b[1m0s\u001b[0m 10ms/step - accuracy: 0.1132 - loss: 2.3112 - val_accuracy: 0.1667 - val_loss: 2.2875\n",
            "Epoch 51/60\n",
            "\u001b[1m14/14\u001b[0m \u001b[32m━━━━━━━━━━━━━━━━━━━━\u001b[0m\u001b[37m\u001b[0m \u001b[1m0s\u001b[0m 13ms/step - accuracy: 0.1185 - loss: 2.3001 - val_accuracy: 0.1667 - val_loss: 2.2882\n",
            "Epoch 52/60\n",
            "\u001b[1m14/14\u001b[0m \u001b[32m━━━━━━━━━━━━━━━━━━━━\u001b[0m\u001b[37m\u001b[0m \u001b[1m0s\u001b[0m 13ms/step - accuracy: 0.1339 - loss: 2.2652 - val_accuracy: 0.1667 - val_loss: 2.2871\n",
            "Epoch 53/60\n",
            "\u001b[1m14/14\u001b[0m \u001b[32m━━━━━━━━━━━━━━━━━━━━\u001b[0m\u001b[37m\u001b[0m \u001b[1m0s\u001b[0m 10ms/step - accuracy: 0.1483 - loss: 2.2531 - val_accuracy: 0.1667 - val_loss: 2.2875\n",
            "Epoch 54/60\n",
            "\u001b[1m14/14\u001b[0m \u001b[32m━━━━━━━━━━━━━━━━━━━━\u001b[0m\u001b[37m\u001b[0m \u001b[1m0s\u001b[0m 9ms/step - accuracy: 0.1013 - loss: 2.2581 - val_accuracy: 0.1667 - val_loss: 2.2860\n",
            "Epoch 55/60\n",
            "\u001b[1m14/14\u001b[0m \u001b[32m━━━━━━━━━━━━━━━━━━━━\u001b[0m\u001b[37m\u001b[0m \u001b[1m0s\u001b[0m 12ms/step - accuracy: 0.1501 - loss: 2.2519 - val_accuracy: 0.1667 - val_loss: 2.2854\n",
            "Epoch 56/60\n",
            "\u001b[1m14/14\u001b[0m \u001b[32m━━━━━━━━━━━━━━━━━━━━\u001b[0m\u001b[37m\u001b[0m \u001b[1m0s\u001b[0m 18ms/step - accuracy: 0.1945 - loss: 2.2750 - val_accuracy: 0.1667 - val_loss: 2.2848\n",
            "Epoch 57/60\n",
            "\u001b[1m14/14\u001b[0m \u001b[32m━━━━━━━━━━━━━━━━━━━━\u001b[0m\u001b[37m\u001b[0m \u001b[1m1s\u001b[0m 17ms/step - accuracy: 0.0943 - loss: 2.2710 - val_accuracy: 0.1667 - val_loss: 2.2836\n",
            "Epoch 58/60\n",
            "\u001b[1m14/14\u001b[0m \u001b[32m━━━━━━━━━━━━━━━━━━━━\u001b[0m\u001b[37m\u001b[0m \u001b[1m0s\u001b[0m 19ms/step - accuracy: 0.0707 - loss: 2.3290 - val_accuracy: 0.1667 - val_loss: 2.2842\n",
            "Epoch 59/60\n",
            "\u001b[1m14/14\u001b[0m \u001b[32m━━━━━━━━━━━━━━━━━━━━\u001b[0m\u001b[37m\u001b[0m \u001b[1m0s\u001b[0m 18ms/step - accuracy: 0.1769 - loss: 2.2597 - val_accuracy: 0.1667 - val_loss: 2.2839\n",
            "Epoch 60/60\n",
            "\u001b[1m14/14\u001b[0m \u001b[32m━━━━━━━━━━━━━━━━━━━━\u001b[0m\u001b[37m\u001b[0m \u001b[1m0s\u001b[0m 17ms/step - accuracy: 0.1423 - loss: 2.2870 - val_accuracy: 0.1667 - val_loss: 2.2826\n",
            "\u001b[1m2/2\u001b[0m \u001b[32m━━━━━━━━━━━━━━━━━━━━\u001b[0m\u001b[37m\u001b[0m \u001b[1m0s\u001b[0m 18ms/step - accuracy: 0.1688 - loss: 2.2718\n",
            "Test accuracy: 0.17499999701976776\n"
          ]
        }
      ],
      "source": [
        "# Train the model and save history\n",
        "history = model.fit(x_train_reduced, y_train, epochs=n_epochs, batch_size=4, validation_split=0.1)\n",
        "\n",
        "# Evaluate the model\n",
        "loss, accuracy = model.evaluate(x_test_reduced, y_test)\n",
        "print(f'Test accuracy: {accuracy}')\n"
      ]
    },
    {
      "cell_type": "markdown",
      "id": "b242b04f-2563-42b7-893c-444d34e9f31b",
      "metadata": {
        "id": "b242b04f-2563-42b7-893c-444d34e9f31b"
      },
      "source": [
        "**Plot Training and Validation Metrics**\n",
        "1. The training and validation loss and accuracy are plotted to visualize the model’s performance over epochs."
      ]
    },
    {
      "cell_type": "code",
      "execution_count": 22,
      "id": "92ee5e1f-7e20-4ef6-9489-dd6e02d3a0ea",
      "metadata": {
        "colab": {
          "base_uri": "https://localhost:8080/",
          "height": 507
        },
        "id": "92ee5e1f-7e20-4ef6-9489-dd6e02d3a0ea",
        "outputId": "1a31b0cc-b245-4aa8-bea2-0c8b6af1f7a5"
      },
      "outputs": [
        {
          "output_type": "display_data",
          "data": {
            "text/plain": [
              "<Figure size 1200x500 with 2 Axes>"
            ],
            "image/png": "[encoded data removed]"
          },
          "metadata": {}
        }
      ],
      "source": [
        "# Plot training & validation accuracy values\n",
        "plt.figure(figsize=(12, 5))\n",
        "\n",
        "# Plot training & validation loss values\n",
        "plt.subplot(1, 2, 1)\n",
        "plt.plot(history.history['loss'])\n",
        "plt.plot(history.history['val_loss'])\n",
        "plt.title('Model Loss')\n",
        "plt.xlabel('Epoch')\n",
        "plt.ylabel('Loss')\n",
        "plt.legend(['Train', 'Validation'])\n",
        "\n",
        "# Plot training & validation accuracy values\n",
        "plt.subplot(1, 2, 2)\n",
        "plt.plot(history.history['accuracy'])\n",
        "plt.plot(history.history['val_accuracy'])\n",
        "plt.title('Model Accuracy')\n",
        "plt.xlabel('Epoch')\n",
        "plt.ylabel('Accuracy')\n",
        "plt.legend(['Train', 'Validation'])\n",
        "\n",
        "plt.tight_layout()\n",
        "plt.show()\n"
      ]
    },
    {
      "cell_type": "code",
      "execution_count": null,
      "id": "2a5de8db-aade-4e50-85e8-59f9c36b8d99",
      "metadata": {
        "id": "2a5de8db-aade-4e50-85e8-59f9c36b8d99"
      },
      "outputs": [],
      "source": []
    }
  ],
  "metadata": {
    "kernelspec": {
      "display_name": "Python 3 (ipykernel)",
      "language": "python",
      "name": "python3"
    },
    "language_info": {
      "codemirror_mode": {
        "name": "ipython",
        "version": 3
      },
      "file_extension": ".py",
      "mimetype": "text/x-python",
      "name": "python",
      "nbconvert_exporter": "python",
      "pygments_lexer": "ipython3",
      "version": "3.12.4"
    },
    "colab": {
      "provenance": []
    }
  },
  "nbformat": 4,
  "nbformat_minor": 5
}