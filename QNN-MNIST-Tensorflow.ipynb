{
 "cells": [
  {
   "cell_type": "code",
   "execution_count": 93,
   "id": "ec34f716-c4ad-462a-ba03-89ba40a7ea3d",
   "metadata": {},
   "outputs": [],
   "source": [
    "#pip install mercury"
   ]
  },
  {
   "cell_type": "code",
   "execution_count": 94,
   "id": "dc6449ea-6e29-4390-a83d-3416c38b3522",
   "metadata": {},
   "outputs": [],
   "source": [
    "# import mercury as mr"
   ]
  },
  {
   "cell_type": "code",
   "execution_count": 95,
   "id": "9568b427-caa3-4f16-9a50-211050da4018",
   "metadata": {},
   "outputs": [],
   "source": [
    "# mr.PDF(\"QNN - Technical Writeup.pdf\")"
   ]
  },
  {
   "cell_type": "markdown",
   "id": "db21761f-2393-4c3d-91ce-29c930de6580",
   "metadata": {},
   "source": [
    "**Quanvolutional Neural Networks**\n",
    "\n",
    "1. PennyLane (pennylane): A library for quantum machine learning that allows defining and running quantum circuits.\n",
    "2. TensorFlow (tensorflow): A popular library for building and training neural networks.\n",
    "3. NumPy (numpy): Used for numerical operations.\n",
    "4. Matplotlib (matplotlib): Used for plotting training and validation metrics.\n",
    "5. Keras (keras): High-level API for building and training neural networks, included in TensorFlow.\n",
    "\n",
    "**Gist** : The below code demonstrates a hybrid classical-quantum neural network approach. It uses a reduced version of the MNIST dataset to train a model that includes a quantum layer, which is evaluated within a TensorFlow/Keras framework. While the quantum component is simplified here for demonstration, it showcases how quantum circuits can be integrated into classical machine learning pipelines."
   ]
  },
  {
   "cell_type": "code",
   "execution_count": 96,
   "id": "7917d2f9-6c98-49e3-a292-471c4f60ffae",
   "metadata": {},
   "outputs": [],
   "source": [
    "# !pip install pennylane\n",
    "# !pip install tensorflow"
   ]
  },
  {
   "cell_type": "code",
   "execution_count": 97,
   "id": "f5eb99c4-cdd8-40f6-8dfe-23e44ae1ba38",
   "metadata": {},
   "outputs": [],
   "source": [
    "import pennylane as qml\n",
    "from pennylane import numpy as np\n",
    "from pennylane.templates import RandomLayers\n",
    "import tensorflow as tf\n",
    "from tensorflow import keras\n",
    "import matplotlib.pyplot as plt\n",
    "from tensorflow.keras.datasets import mnist\n",
    "from tensorflow.keras.utils import to_categorical\n",
    "# # from silence_tensorflow import silence_tensorflow\n",
    "# silence_tensorflow()\n"
   ]
  },
  {
   "cell_type": "markdown",
   "id": "12beb0d6-ed72-4ea5-8baa-18354e8cd36b",
   "metadata": {},
   "source": [
    "**Load and Preprocess MNIST Dataset**\n",
    "\n",
    "1. Dataset Loading: MNIST data is loaded with keras.datasets.mnist.load_data(), providing images and labels of handwritten digits.\n",
    "2. Reduce Dataset Size: Only a small subset of data is used for quicker computations.\n",
    "3. Normalization: Pixel values are normalized to the range [0, 1].\n",
    "4. Dimension Expansion: Added a channel dimension to match the expected input shape for CNNs (though not used further in this script)."
   ]
  },
  {
   "cell_type": "code",
   "execution_count": 98,
   "id": "6e3d5efa-62f2-4bb2-82d2-d1670db83e8a",
   "metadata": {},
   "outputs": [],
   "source": [
    "# Load and preprocess MNIST dataset\n",
    "n_train = 50    # Size of the train dataset\n",
    "n_test = 30     # Size of the test dataset\n",
    "n_epochs = 20\n",
    "n_layers = 4\n",
    "\n",
    "mnist_dataset = keras.datasets.mnist\n",
    "(x_train, y_train), (x_test, y_test) = mnist_dataset.load_data()\n",
    "\n",
    "# Reduce dataset size\n",
    "x_train = x_train[:n_train]\n",
    "y_train = y_train[:n_train]\n",
    "x_test = x_test[:n_test]\n",
    "y_test = y_test[:n_test]\n",
    "\n",
    "# Normalize pixel values within 0 and 1\n",
    "x_train = x_train / 255.0\n",
    "x_test = x_test / 255.0\n",
    "\n",
    "# Add extra dimension for convolution channels\n",
    "x_train = np.array(x_train[..., tf.newaxis], requires_grad=False)\n",
    "x_test = np.array(x_test[..., tf.newaxis], requires_grad=False)\n"
   ]
  },
  {
   "cell_type": "markdown",
   "id": "39e15948-ab12-4b12-92f7-c29c9a64db7d",
   "metadata": {},
   "source": [
    "**Feature Reduction**\n",
    "1. Images are flattened and reduced to only the first 4 features to fit the input dimension of the quantum circuit. This is a major simplification for demonstration purposes."
   ]
  },
  {
   "cell_type": "code",
   "execution_count": 99,
   "id": "a2e4a2c1-8723-4205-a371-a4665f621afa",
   "metadata": {},
   "outputs": [],
   "source": [
    "# Reduce features to match quantum circuit's requirements\n",
    "# def feature_reduction(x):\n",
    "#     # Flatten the images and use only the first 4 features\n",
    "#     x_flat = x.reshape(x.shape[0], -1)  # Flatten the images\n",
    "#     return x_flat[:, :4]\n",
    "\n",
    "# x_train_reduced = feature_reduction(x_train)\n",
    "# x_test_reduced = feature_reduction(x_test)\n"
   ]
  },
  {
   "cell_type": "markdown",
   "id": "329d479b-3569-422e-a7dd-62037df39039",
   "metadata": {},
   "source": [
    "## Quantum Preprocessing of Images (train & test both) "
   ]
  },
  {
   "cell_type": "code",
   "execution_count": 100,
   "id": "1e273782-0083-4f98-a7e3-868e9629513c",
   "metadata": {},
   "outputs": [],
   "source": [
    "SAVE_PATH = \"./quanvolution/\"  # Data saving folder\n",
    "PREPROCESS = True           # If False, skip quantum processing and load data from SAVE_PATH\n",
    "np.random.seed(0)           # Seed for NumPy random number generator\n",
    "tf.random.set_seed(0)       # Seed for TensorFlow random number generator"
   ]
  },
  {
   "cell_type": "code",
   "execution_count": 101,
   "id": "8872c59d-9a1a-45a3-a147-7601c8f3f72b",
   "metadata": {},
   "outputs": [
    {
     "name": "stdout",
     "output_type": "stream",
     "text": [
      " Volume in drive C is Windows\n",
      " Volume Serial Number is 0C2A-EB53\n",
      "\n",
      " Directory of C:\\Users\\gupta\\Downloads\n",
      "\n",
      "16-03-2024  09.33 PM           587,854 (Week 16, CC, PI) Statistics Recall Session [Hands-On _ Live Coding _ Tutorial Session] .docx\n",
      "08-08-2024  12.17 AM    <DIR>          .\n",
      "07-08-2024  11.24 PM    <DIR>          ..\n",
      "07-08-2024  10.14 PM    <DIR>          .ipynb_checkpoints\n",
      "17-03-2024  08.48 PM            29,402 1_Hands_on_Using_ChatGPT_or_Google_Gemini_with_Python_for_real_world_tasks.ipynb\n",
      "17-03-2024  08.48 PM            74,376 1_Hands_on_Using_ChatGPT_or_Google_Gemini_with_Python_for_real_world_tasks_solutions.ipynb\n",
      "25-07-2024  07.33 AM        61,227,577 18-06sc-fall-2011.zip\n",
      "14-07-2024  07.35 PM           321,861 2.1 a1.pdf\n",
      "14-07-2024  09.51 PM           143,446 2.3 QNickel - Quiz - Deutsch Jozsa and Bernstein Vazirani_ Womanium Quantum+AI 2024.pdf\n",
      "14-07-2024  10.02 PM           199,997 2.6 QNickel - Quiz - Grover's Search_ Womanium Quantum+AI 2024.pdf\n",
      "07-08-2024  07.58 PM            31,892 2206300065_BOULEVARD-G202.PDF\n",
      "07-08-2024  08.20 PM            31,892 2209020113_BOULEVARD-G202.PDF\n",
      "06-07-2024  10.06 AM        12,529,840 adusetupg_systweakblog-2626_1.exe\n",
      "17-03-2024  12.10 PM       948,300,296 Anaconda3-2024.02-1-Windows-x86_64.exe\n",
      "16-07-2024  01.50 PM            21,779 Assign_ClassicalGates_BhawnaGupta.ipynb\n",
      "16-07-2024  01.11 PM            17,716 Assign_GroverMaxCut.ipynb\n",
      "16-07-2024  01.11 PM            11,817 Assign_IntroToCirq.ipynb\n",
      "14-07-2024  11.28 PM            40,453 Assign_IntroToCirq_Bhawna Gupta.ipynb\n",
      "14-07-2024  10.48 PM            30,745 Assign_Simon_BG.ipynb\n",
      "15-07-2024  11.16 PM           279,246 bedroom child.jpg\n",
      "15-07-2024  08.07 PM            52,516 Bhawna Gupta - 13+yrs (1).docx\n",
      "15-07-2024  08.01 PM           212,519 Bhawna Gupta - 13+yrs (1).pdf\n",
      "19-05-2024  08.34 PM           188,387 Bhawna Gupta - 13+yrs.pdf\n",
      "15-02-2024  08.18 PM           380,657 Bhawna Gupta.pdf\n",
      "16-07-2024  06.33 PM           130,534 Bhawna Gupta_13yrs_UHG_IIMB.pdf\n",
      "30-06-2024  10.55 PM           866,116 Bhawna_Gupta_WQ6.docx\n",
      "13-05-2024  09.55 AM         1,792,810 Bike+Sharing+Assignment+Solution (1).ipynb\n",
      "20-06-2024  10.33 AM           224,784 Bike+Sharing+Assignment+Solution.ipynb\n",
      "07-08-2024  08.02 PM            35,108 BOULEVARD-G202_2100107703.PDF\n",
      "07-08-2024  08.22 PM            39,932 BOULEVARD-G202_2100110726.PDF\n",
      "07-08-2024  08.25 PM            35,108 BOULEVARD-G202_2100110727 (1).PDF\n",
      "07-08-2024  08.22 PM            35,108 BOULEVARD-G202_2100110727.PDF\n",
      "07-08-2024  08.45 PM           639,897 CASAGRAND BOULEVARD_G202_FINAL.xlsx\n",
      "26-06-2024  11.27 PM    <DIR>          CG meeting\n",
      "21-02-2024  11.16 PM    <DIR>          chapter\n",
      "25-07-2024  05.03 AM           491,458 churn_data.csv\n",
      "22-07-2024  02.47 AM           246,432 CNN.pdf\n",
      "22-07-2024  03.02 AM         1,736,705 CNN_Assignment_solution (Melona Detection).ipynb\n",
      "16-03-2024  09.34 PM         1,736,705 CNN_Assignment_solution.ipynb\n",
      "21-02-2024  10.44 PM             4,110 Comprehensions.ipynb\n",
      "30-07-2024  11.31 PM           107,076 Creating_a_neural_network_in_JAX - v2 (1).ipynb\n",
      "10-07-2024  11.15 AM           107,076 Creating_a_neural_network_in_JAX - v2.ipynb\n",
      "25-07-2024  05.03 AM           188,615 customer_data.csv\n",
      "08-02-2024  07.11 PM            57,542 day.csv\n",
      "16-03-2024  09.33 PM        31,497,354 DeepLearningAI - intro - multimodal workshop.pptx\n",
      "16-03-2024  09.32 PM            22,655 dependency parsing.ipynb\n",
      "22-07-2024  10.42 PM    <DIR>          Digit-recognition-main\n",
      "05-06-2024  11.10 PM        99,311,848 DiscordSetup (1).exe\n",
      "05-06-2024  10.42 PM        99,311,848 DiscordSetup.exe\n",
      "07-03-2024  02.25 AM           563,650 DL_BigMartSales.ipynb\n",
      "10-06-2024  06.32 PM            98,405 document.pdf\n",
      "16-03-2024  09.33 PM           907,392 DS_ML Interview Preparation Toolkit.pdf\n",
      "16-07-2024  01.11 PM           145,850 EX1.pdf\n",
      "23-07-2024  02.17 AM           141,529 exam-1 sample1.pdf\n",
      "14-03-2024  06.06 PM           121,417 expedia.png\n",
      "23-07-2024  02.20 AM           307,886 final2001sols.pdf\n",
      "23-07-2024  02.20 AM           115,651 final2002sols.pdf\n",
      "23-07-2024  02.18 AM           127,644 final2003sols.pdf\n",
      "19-02-2024  10.51 PM             3,336 Functions.ipynb\n",
      "07-08-2024  08.15 PM            61,612 G202-Data Base.xlsx\n",
      "22-07-2024  03.04 AM    <DIR>          Gesture Recognition\n",
      "16-03-2024  10.09 PM        65,350,776 Git-2.44.0-64-bit.exe\n",
      "03-03-2024  05.55 PM    <DIR>          Glossary_PythonQuickStart\n",
      "29-02-2024  11.43 PM           584,782 Guide to Fine Tuning.pdf\n",
      "13-07-2024  09.13 AM         4,625,897 H2bwGZxyQPi9OILqNECk_Project.zip\n",
      "11-03-2024  01.16 AM    <DIR>          Hands_On_PyTorch_ML\n",
      "05-03-2024  05.46 AM        92,777,138 HgJTbUlZTh699NXOJU3p_Finetuning_LLMs.zip\n",
      "14-03-2024  02.54 AM            85,255 Housing+Case+Study+using+RFE (2).ipynb\n",
      "09-03-2024  11.32 PM           463,239 IIT D QCML - Schedule.pdf\n",
      "25-07-2024  05.03 AM           466,484 internet_data.csv\n",
      "07-03-2024  07.53 PM        16,571,011 Introduction to course and linear algebra-20240307.zip\n",
      "14-03-2024  12.13 AM         2,053,812 Introduction.pdf\n",
      "17-03-2024  09.08 PM       290,799,630 invideo-ai-1080 Puppy Invasion_ A Garden Chase 2024-03-17.mp4\n",
      "07-08-2024  10.15 PM           327,001 learning2learn.ipynb\n",
      "07-08-2024  04.09 PM            13,032 lec 15 q2.docx\n",
      "07-08-2024  04.13 PM            13,145 Lec 15-sec9-q1.docx\n",
      "25-07-2024  12.02 AM           269,322 lec1.pdf\n",
      "07-08-2024  04.44 PM           692,392 Lec-16.pdf\n",
      "25-07-2024  06.30 AM           118,067 lec3.pdf\n",
      "17-07-2024  12.34 AM        27,661,440 lec-6.pdf\n",
      "16-07-2024  02.40 AM           886,465 lec-8.pdf\n",
      "16-07-2024  04.00 AM           241,368 lec-9.pdf\n",
      "20-06-2024  05.52 PM         1,591,878 Lecture+Notes+-+Linear++Regression.pdf\n",
      "12-03-2024  06.34 PM           204,561 LLM 01L - Transformer Architecture Lab.ipynb\n",
      "25-03-2024  10.10 PM            55,692 LLM 02L - LoRA with PEFT.ipynb\n",
      "31-07-2024  01.23 PM        17,322,931 LLM OCI Path.docx\n",
      "31-07-2024  09.27 AM            20,774 llm vulnerability.docx\n",
      "01-08-2024  09.56 AM       134,491,416 LockDownBrowserOEMSetup (1).exe\n",
      "31-07-2024  04.32 PM       134,491,416 LockDownBrowserOEMSetup.exe\n",
      "19-05-2024  12.59 PM             5,392 login (1).htm\n",
      "19-05-2024  12.59 PM             5,447 login.htm\n",
      "25-07-2024  05.03 AM         1,184,377 Logistic+Regression+-+Telecom+Churn+Case+Study (1) (1).ipynb\n",
      "20-06-2024  05.52 PM           669,686 Logistic+Regression+Lecture+Notes.pdf\n",
      "29-02-2024  11.43 PM         7,217,554 LoRA land.pdf\n",
      "19-02-2024  11.43 PM             3,003 Map, Reduce & Filter.ipynb\n",
      "14-03-2024  02.54 AM           416,106 Media+Company (1).ipynb\n",
      "23-07-2024  02.19 AM           102,662 midterm2001sols.pdf\n",
      "23-07-2024  02.19 AM           164,785 midterm2002sols.pdf\n",
      "23-07-2024  02.17 AM           158,482 midtermsols.pdf\n",
      "10-07-2024  02.24 PM    <DIR>          mitx-6.86x-machine-learning-master\n",
      "10-07-2024  02.36 PM    <DIR>          mnist\n",
      "23-07-2024  01.57 AM           905,079 mnist_model_fully_connected.pt\n",
      "14-03-2024  12.13 AM         3,554,131 Module-1.pdf\n",
      "14-03-2024  12.13 AM         3,359,087 Module-2.pdf\n",
      "14-03-2024  12.13 AM         2,106,384 Module-3.pdf\n",
      "14-03-2024  12.14 AM         8,828,598 Module-4.pdf\n",
      "14-03-2024  02.54 AM           522,997 Multiple+Linear+Regression+-+Housing+Case+Study (2).ipynb\n",
      "22-07-2024  03.08 AM           203,424 NLP+MLOps+Assignment+Solution.docx\n",
      "22-07-2024  03.09 AM           932,190 NLP-MLOps_Case_Study.pdf\n",
      "25-07-2024  05.42 AM           223,221 notes_chapter_Feature_representation.pdf\n",
      "25-07-2024  05.27 AM           179,391 notes_chapter_Linear_classifiers.pdf\n",
      "02-03-2024  09.20 PM         4,844,824 npp.8.6.4.Installer.x64.exe\n",
      "24-02-2024  08.12 PM    <DIR>          Numpy\n",
      "16-03-2024  09.31 PM           167,786 openAI-stater\n",
      "16-03-2024  09.32 PM           167,786 openAI-stater (1)\n",
      "30-07-2024  08.16 AM             5,326 Oracle Certification exam (1).ics\n",
      "30-07-2024  08.19 AM             5,324 Oracle Certification exam (2).ics\n",
      "30-07-2024  08.19 AM             5,313 Oracle Certification exam (3).ics\n",
      "31-07-2024  09.52 AM             5,313 Oracle Certification exam (4).ics\n",
      "30-07-2024  08.14 AM             5,326 Oracle Certification exam.ics\n",
      "07-07-2024  07.36 PM           403,843 Part1.ipynb\n",
      "16-03-2024  09.32 PM            12,008 POS-spacy.ipynb\n",
      "15-03-2024  08.39 AM             1,769 Power BI Integration.ipynb\n",
      "03-03-2024  06.02 PM                15 py1.py\n",
      "03-03-2024  06.03 PM                15 py2.py\n",
      "03-03-2024  06.55 PM             9,444 py3.ipynb\n",
      "23-03-2024  07.40 PM               617 QCML-1.ipynb\n",
      "08-08-2024  12.17 AM            18,361 QNN-MNIST-LEARNING-SOLUTION.ipynb\n",
      "30-06-2024  09.56 PM           352,302 Quantum Circuit Components.ipynb\n",
      "16-03-2024  09.32 PM            34,144 Quantum Cirq start.ipynb\n",
      "07-08-2024  11.57 PM    <DIR>          quanvolution\n",
      "21-02-2024  10.45 PM    <DIR>          RAG systems using LlamaIndex\n",
      "16-03-2024  09.29 PM            16,666 Regular_Expressions.ipynb\n",
      "07-08-2024  07.18 PM            82,882 ReportLadakh.docx\n",
      "07-07-2024  07.43 PM    <DIR>          resources_mnist\n",
      "23-07-2024  12.38 AM        44,664,110 resources_mnist.tar.gz\n",
      "29-06-2024  09.14 AM    <DIR>          resources_project0\n",
      "29-06-2024  09.14 AM             1,691 resources_project0.tar.gz\n",
      "05-03-2024  05.27 AM            64,404 Resume+Action+Words+by+upGrad.pdf\n",
      "14-03-2024  03.09 AM           151,831 Simple+Linear+Regression+in+Python.ipynb\n",
      "16-03-2024  09.29 PM             2,279 sklearn - MLP (1).ipynb\n",
      "16-03-2024  09.27 PM             2,279 sklearn - MLP.ipynb\n",
      "31-07-2024  09.19 AM             9,967 sources of vulnerabilities.xlsx\n",
      "19-05-2024  01.48 PM    <DIR>          telco.csv\n",
      "19-05-2024  01.00 PM           525,781 telco.csv.zip\n",
      "25-07-2024  05.03 AM             1,490 Telecom+Churn+Data+Dictionary.csv\n",
      "06-07-2024  11.24 PM    <DIR>          Telegram Desktop\n",
      "07-03-2024  02.24 AM           526,291 test_FewQE9B.csv\n",
      "07-03-2024  02.24 AM           869,537 train_XnW6LSF.csv\n",
      "14-03-2024  12.14 AM         3,098,028 Training_LLMs_from_Scratch_MosaicML.pdf\n",
      "09-03-2024  08.43 AM        43,867,240 tsetup-x64.4.15.1.exe\n",
      "07-08-2024  11.59 PM           146,506 tutorial_quanvolution.ipynb\n",
      "16-03-2024  09.40 PM        98,058,712 VSCodeUserSetup-x64-1.87.2.exe\n",
      "16-03-2024  09.29 PM         1,241,585 web scrape.ipynb\n",
      "06-07-2024  10.00 AM        14,299,136 WindowsPCHealthCheckSetup.msi\n",
      "30-06-2024  10.40 PM    <DIR>          Womanium Quantum\n",
      "             137 File(s)  2,302,518,312 bytes\n",
      "              19 Dir(s)  107,988,168,704 bytes free\n"
     ]
    }
   ],
   "source": [
    "ls"
   ]
  },
  {
   "cell_type": "markdown",
   "id": "8fdde811-ad65-4a45-a308-32812ebd0fda",
   "metadata": {},
   "source": [
    "# Define Quantum device and Quantum Circuit"
   ]
  },
  {
   "cell_type": "code",
   "execution_count": 102,
   "id": "22f1c72c-300d-4a02-a4a7-d0fcf073620a",
   "metadata": {},
   "outputs": [],
   "source": [
    "dev = qml.device(\"default.qubit\", wires=4)\n",
    "# Random circuit parameters\n",
    "rand_params = np.random.uniform(high=2 * np.pi, size=(n_layers, 4))\n",
    "\n",
    "@qml.qnode(dev)\n",
    "def circuit(phi):\n",
    "    # Encoding of 4 classical input values\n",
    "    for j in range(4):\n",
    "        qml.RY(np.pi * phi[j], wires=j)\n",
    "\n",
    "    # Random quantum circuit\n",
    "    RandomLayers(rand_params, wires=list(range(4)))\n",
    "\n",
    "    # Measurement producing 4 classical output values\n",
    "    return [qml.expval(qml.PauliZ(j)) for j in range(4)]"
   ]
  },
  {
   "cell_type": "markdown",
   "id": "b6367393-3855-45bf-9713-0944fb1f6718",
   "metadata": {},
   "source": [
    "The next function defines the convolution scheme:\n",
    "\n",
    "the image is divided into squares of \n",
    " pixels;\n",
    "each square is processed by the quantum circuit;\n",
    "the \n",
    " expectation values are mapped into \n",
    " different channels of a single output pixel.\n",
    "::: {.note} ::: {.title} Note :::\n",
    "\n",
    "This process halves the resolution of the input image. In the standard language of CNN, this would correspond to a convolution with a \n",
    " kernel and a stride equal to \n",
    ". :::"
   ]
  },
  {
   "cell_type": "code",
   "execution_count": 103,
   "id": "0b62109b-25eb-42e1-a408-3f0f6e7bd4f2",
   "metadata": {},
   "outputs": [],
   "source": [
    "def quanv(image):\n",
    "    \"\"\"Convolves the input image with many applications of the same quantum circuit.\"\"\"\n",
    "    out = np.zeros((14, 14, 4))\n",
    "\n",
    "    # Loop over the coordinates of the top-left pixel of 2X2 squares\n",
    "    for j in range(0, 28, 2):\n",
    "        for k in range(0, 28, 2):\n",
    "            # Process a squared 2x2 region of the image with a quantum circuit\n",
    "            q_results = circuit(\n",
    "                [\n",
    "                    image[j, k, 0],\n",
    "                    image[j, k + 1, 0],\n",
    "                    image[j + 1, k, 0],\n",
    "                    image[j + 1, k + 1, 0]\n",
    "                ]\n",
    "            )\n",
    "            # Assign expectation values to different channels of the output pixel (j/2, k/2)\n",
    "            for c in range(4):\n",
    "                out[j // 2, k // 2, c] = q_results[c]\n",
    "    return out"
   ]
  },
  {
   "cell_type": "code",
   "execution_count": 104,
   "id": "cc499b21-365c-4625-be0c-859cd307e9d4",
   "metadata": {},
   "outputs": [
    {
     "name": "stdout",
     "output_type": "stream",
     "text": [
      "Quantum pre-processing of train images:\n",
      "50/50        \n",
      "Quantum pre-processing of test images:\n",
      "30/30        \r"
     ]
    }
   ],
   "source": [
    "if PREPROCESS == True:\n",
    "    q_x_train = []\n",
    "    print(\"Quantum pre-processing of train images:\")\n",
    "    for idx, img in enumerate(x_train):\n",
    "        print(\"{}/{}        \".format(idx + 1, n_train), end=\"\\r\")\n",
    "        q_x_train.append(quanv(img))\n",
    "    q_x_train = np.asarray(q_x_train)\n",
    "\n",
    "    q_x_test = []\n",
    "    print(\"\\nQuantum pre-processing of test images:\")\n",
    "    for idx, img in enumerate(x_test):\n",
    "        print(\"{}/{}        \".format(idx + 1, n_test), end=\"\\r\")\n",
    "        q_x_test.append(quanv(img))\n",
    "    q_x_test = np.asarray(q_x_test)\n",
    "\n"
   ]
  },
  {
   "cell_type": "code",
   "execution_count": 105,
   "id": "0df45cdc-4f90-4d37-a5eb-85c4a1549c26",
   "metadata": {},
   "outputs": [],
   "source": [
    "# Save pre-processed images\n",
    "np.save(SAVE_PATH + \"q_x_train.npy\", q_x_train)\n",
    "np.save(SAVE_PATH + \"q_x_test.npy\", q_x_test)\n",
    "\n",
    "\n",
    "# Load pre-processed images\n",
    "q_x_train = np.load(SAVE_PATH + \"q_x_train.npy\")\n",
    "q_x_test = np.load(SAVE_PATH + \"q_x_test.npy\")"
   ]
  },
  {
   "cell_type": "code",
   "execution_count": 106,
   "id": "7dd0d4f3-1a9a-4c85-b826-540f0b5a47f9",
   "metadata": {},
   "outputs": [
    {
     "data": {
      "text/plain": [
       "(50, 14, 14, 4)"
      ]
     },
     "execution_count": 106,
     "metadata": {},
     "output_type": "execute_result"
    }
   ],
   "source": [
    "q_x_train.shape"
   ]
  },
  {
   "cell_type": "markdown",
   "id": "08b4fee8-c2b7-4a47-bd4e-0e812347df87",
   "metadata": {},
   "source": [
    "**One-Hot Encoding**\n",
    "\n",
    "1. Labels are converted to a one-hot format suitable for classification tasks, where each label is represented as a vector of length 10."
   ]
  },
  {
   "cell_type": "code",
   "execution_count": 107,
   "id": "ae03c498-0b2a-4c62-9346-36c596b4d2cf",
   "metadata": {},
   "outputs": [],
   "source": [
    "# Convert labels to one-hot encoding\n",
    "y_train = to_categorical(y_train, 10)  # Ensure shape is (n_train, 10)\n",
    "y_test = to_categorical(y_test, 10)    # Ensure shape is (n_test, 10)\n"
   ]
  },
  {
   "cell_type": "code",
   "execution_count": 108,
   "id": "8484201b-f9c1-4d62-8e31-c5b473f9517f",
   "metadata": {},
   "outputs": [
    {
     "data": {
      "text/plain": [
       "(50, 10)"
      ]
     },
     "execution_count": 108,
     "metadata": {},
     "output_type": "execute_result"
    }
   ],
   "source": [
    "y_train.shape"
   ]
  },
  {
   "cell_type": "markdown",
   "id": "e4b20d6b-cc43-4d79-b4cd-72749a65fde0",
   "metadata": {},
   "source": [
    "**Define Quantum Circuit**\n",
    "\n",
    "1.A quantum circuit is defined using PennyLane. It uses angle embedding and entangling layers to process the inputs and weights. The expectation value of **PauliZ(0)** is used as the output."
   ]
  },
  {
   "cell_type": "code",
   "execution_count": 109,
   "id": "40d333a2-033a-4dcf-8485-f4e2c3908795",
   "metadata": {},
   "outputs": [],
   "source": [
    "# Define a quantum circuit\n",
    "# def qnn_circuit(inputs, weights):\n",
    "#     qml.templates.AngleEmbedding(features=inputs, wires=range(4))\n",
    "#     qml.templates.BasicEntanglerLayers(weights, wires=range(4))\n",
    "#     return qml.expval(qml.PauliZ(0))\n"
   ]
  },
  {
   "cell_type": "markdown",
   "id": "f5db22fe-349a-4612-9de5-7c2b0fb0ad6a",
   "metadata": {},
   "source": [
    "**Create Quantum Device**\n",
    "\n",
    "1. A quantum device with 4 qubits is created using PennyLane’s default simulator."
   ]
  },
  {
   "cell_type": "code",
   "execution_count": 110,
   "id": "f39dc232-c2ac-4b7d-bee7-a26c89cc8c76",
   "metadata": {},
   "outputs": [],
   "source": [
    "# Create a quantum device\n",
    "# dev = qml.device(\"default.qubit\", wires=4)\n"
   ]
  },
  {
   "cell_type": "markdown",
   "id": "7611d452-7b23-4e68-bfc6-622f3cbf56ba",
   "metadata": {},
   "source": [
    "**Define Custom Keras Layer for Quantum Computation**\n",
    "\n",
    "**QuantumLayer Class**: A custom Keras layer is created to handle quantum computations. It includes:\n",
    "1. Weights Initialization: Trainable parameters for the quantum circuit.\n",
    "2. Call Method: Converts inputs and weights to tensors, evaluates the quantum circuit, and reshapes the result."
   ]
  },
  {
   "cell_type": "code",
   "execution_count": 111,
   "id": "014ee10b-1de4-4508-8710-25c67304e7d4",
   "metadata": {},
   "outputs": [],
   "source": [
    "# class QuantumLayer(tf.keras.layers.Layer):\n",
    "#     def __init__(self, **kwargs):\n",
    "#         super(QuantumLayer, self).__init__(**kwargs)\n",
    "#         # Initialize weights as trainable parameters\n",
    "#         self._weights = self.add_weight(\n",
    "#             shape=(4, 4),  # Adjust shape to match the circuit requirements\n",
    "#             initializer='random_normal',\n",
    "#             trainable=True,\n",
    "#             name='quantum_weights'\n",
    "#         )\n",
    "\n",
    "#     def call(self, inputs):\n",
    "#         # Ensure inputs are in the correct shape and type\n",
    "#         inputs = tf.convert_to_tensor(inputs, dtype=tf.float32)\n",
    "#         weights = tf.convert_to_tensor(self._weights, dtype=tf.float32)\n",
    "\n",
    "#         # Define a quantum node\n",
    "#         @qml.qnode(dev, interface='tf')\n",
    "#         def quantum_node(inputs, weights):\n",
    "#             return qnn_circuit(inputs, weights)\n",
    "        \n",
    "#         # Get results from quantum node\n",
    "#         result = quantum_node(inputs, weights)\n",
    "        \n",
    "#         # Convert the result back to a TensorFlow tensor and ensure correct shape\n",
    "#         return tf.reshape(result, (-1, 1))  # Ensure output shape is [batch_size, 1]\n"
   ]
  },
  {
   "cell_type": "markdown",
   "id": "4957cade-6a5c-4f57-a1b3-56c58b9e5873",
   "metadata": {},
   "source": [
    "**Define and Compile the Model**\n",
    "- Model Definition: A simple sequential model is defined with:\n",
    " 1. Input Layer: Matches the input shape of the reduced features.\n",
    " 2. QuantumLayer: Integrates the quantum circuit into the model.\n",
    " 3. Dense Layer: A softmax layer for classification with 10 output neurons.\n",
    "- Compilation: The model is compiled using Adam optimizer and categorical crossentropy loss function."
   ]
  },
  {
   "cell_type": "code",
   "execution_count": 112,
   "id": "0b310cce-23c9-4559-9c65-176246d0c3c2",
   "metadata": {},
   "outputs": [],
   "source": [
    "# Define the model\n",
    "def create_qnn_model():\n",
    "    model = keras.models.Sequential([\n",
    "        keras.layers.Flatten(),\n",
    "        keras.layers.Dense(10, activation=\"softmax\")\n",
    "    ])\n",
    "\n",
    "    return model\n",
    "\n",
    "# Create and compile the model\n",
    "q_model = create_qnn_model()\n",
    "q_model.compile(optimizer='adam', loss='categorical_crossentropy', metrics=['accuracy'])\n"
   ]
  },
  {
   "cell_type": "markdown",
   "id": "2944724b-3fcf-4b84-a418-30a865cbdbda",
   "metadata": {},
   "source": [
    "**Train and Evaluate the Model**\n",
    "\n",
    "1. Training: The model is trained for a specified number of epochs with a batch size of 4 and a validation split of 20%.\n",
    "2. Evaluation: The model is evaluated on the test set to obtain accuracy."
   ]
  },
  {
   "cell_type": "code",
   "execution_count": 117,
   "id": "167602be-a4c8-4975-af66-7361a89b9a21",
   "metadata": {},
   "outputs": [
    {
     "name": "stdout",
     "output_type": "stream",
     "text": [
      "Epoch 1/20\n",
      "13/13 - 0s - 12ms/step - accuracy: 1.0000 - loss: 0.0915 - val_accuracy: 0.6000 - val_loss: 1.1305\n",
      "Epoch 2/20\n",
      "13/13 - 0s - 7ms/step - accuracy: 1.0000 - loss: 0.0878 - val_accuracy: 0.6000 - val_loss: 1.1274\n",
      "Epoch 3/20\n",
      "13/13 - 0s - 6ms/step - accuracy: 1.0000 - loss: 0.0844 - val_accuracy: 0.6000 - val_loss: 1.1244\n",
      "Epoch 4/20\n",
      "13/13 - 0s - 7ms/step - accuracy: 1.0000 - loss: 0.0811 - val_accuracy: 0.6000 - val_loss: 1.1216\n",
      "Epoch 5/20\n",
      "13/13 - 0s - 7ms/step - accuracy: 1.0000 - loss: 0.0780 - val_accuracy: 0.6000 - val_loss: 1.1189\n",
      "Epoch 6/20\n",
      "13/13 - 0s - 7ms/step - accuracy: 1.0000 - loss: 0.0752 - val_accuracy: 0.6000 - val_loss: 1.1163\n",
      "Epoch 7/20\n",
      "13/13 - 0s - 6ms/step - accuracy: 1.0000 - loss: 0.0725 - val_accuracy: 0.6000 - val_loss: 1.1139\n",
      "Epoch 8/20\n",
      "13/13 - 0s - 7ms/step - accuracy: 1.0000 - loss: 0.0699 - val_accuracy: 0.6000 - val_loss: 1.1115\n",
      "Epoch 9/20\n",
      "13/13 - 0s - 7ms/step - accuracy: 1.0000 - loss: 0.0675 - val_accuracy: 0.6000 - val_loss: 1.1093\n",
      "Epoch 10/20\n",
      "13/13 - 0s - 7ms/step - accuracy: 1.0000 - loss: 0.0652 - val_accuracy: 0.6000 - val_loss: 1.1072\n",
      "Epoch 11/20\n",
      "13/13 - 0s - 7ms/step - accuracy: 1.0000 - loss: 0.0630 - val_accuracy: 0.6000 - val_loss: 1.1052\n",
      "Epoch 12/20\n",
      "13/13 - 0s - 8ms/step - accuracy: 1.0000 - loss: 0.0610 - val_accuracy: 0.6000 - val_loss: 1.1033\n",
      "Epoch 13/20\n",
      "13/13 - 0s - 8ms/step - accuracy: 1.0000 - loss: 0.0590 - val_accuracy: 0.6000 - val_loss: 1.1014\n",
      "Epoch 14/20\n",
      "13/13 - 0s - 8ms/step - accuracy: 1.0000 - loss: 0.0572 - val_accuracy: 0.6000 - val_loss: 1.0997\n",
      "Epoch 15/20\n",
      "13/13 - 0s - 7ms/step - accuracy: 1.0000 - loss: 0.0554 - val_accuracy: 0.6000 - val_loss: 1.0980\n",
      "Epoch 16/20\n",
      "13/13 - 0s - 8ms/step - accuracy: 1.0000 - loss: 0.0537 - val_accuracy: 0.6000 - val_loss: 1.0964\n",
      "Epoch 17/20\n",
      "13/13 - 0s - 7ms/step - accuracy: 1.0000 - loss: 0.0521 - val_accuracy: 0.6000 - val_loss: 1.0948\n",
      "Epoch 18/20\n",
      "13/13 - 0s - 7ms/step - accuracy: 1.0000 - loss: 0.0506 - val_accuracy: 0.6000 - val_loss: 1.0933\n",
      "Epoch 19/20\n",
      "13/13 - 0s - 6ms/step - accuracy: 1.0000 - loss: 0.0491 - val_accuracy: 0.6000 - val_loss: 1.0919\n",
      "Epoch 20/20\n",
      "13/13 - 0s - 7ms/step - accuracy: 1.0000 - loss: 0.0477 - val_accuracy: 0.6000 - val_loss: 1.0905\n",
      "\u001b[1m1/1\u001b[0m \u001b[32m━━━━━━━━━━━━━━━━━━━━\u001b[0m\u001b[37m\u001b[0m \u001b[1m0s\u001b[0m 51ms/step - accuracy: 0.6000 - loss: 1.0905\n",
      "Test accuracy: 0.6000000238418579\n"
     ]
    }
   ],
   "source": [
    "# Train the model and save history\n",
    "q_history = q_model.fit(q_x_train, y_train, epochs=n_epochs, batch_size=4, verbose=2, validation_data=(q_x_test, y_test),)\n",
    "\n",
    "# Evaluate the model\n",
    "loss, accuracy = q_model.evaluate(q_x_test, y_test)\n",
    "print(f'Test accuracy: {accuracy}')"
   ]
  },
  {
   "cell_type": "markdown",
   "id": "b242b04f-2563-42b7-893c-444d34e9f31b",
   "metadata": {},
   "source": [
    "**Plot Training and Validation Metrics**\n",
    "1. The training and validation loss and accuracy are plotted to visualize the model’s performance over epochs."
   ]
  },
  {
   "cell_type": "code",
   "execution_count": 118,
   "id": "92ee5e1f-7e20-4ef6-9489-dd6e02d3a0ea",
   "metadata": {},
   "outputs": [
    {
     "data": {
      "image/png": "[encoded data removed]",
      "text/plain": [
       "<Figure size 1200x500 with 2 Axes>"
      ]
     },
     "metadata": {},
     "output_type": "display_data"
    }
   ],
   "source": [
    "import matplotlib.pyplot as plt\n",
    "\n",
    "# Plot training & validation accuracy values\n",
    "plt.figure(figsize=(12, 5))\n",
    "\n",
    "# Plot training & validation loss values\n",
    "plt.subplot(1, 2, 1)\n",
    "plt.plot(q_history.history['loss'])\n",
    "plt.plot(q_history.history['val_loss'])\n",
    "plt.title('Model Loss')\n",
    "plt.xlabel('Epoch')\n",
    "plt.ylabel('Loss')\n",
    "plt.legend(['Train', 'Validation'])\n",
    "\n",
    "# Plot training & validation accuracy values\n",
    "plt.subplot(1, 2, 2)\n",
    "plt.plot(q_history.history['accuracy'])\n",
    "plt.plot(q_history.history['val_accuracy'])\n",
    "plt.title('Model Accuracy')\n",
    "plt.xlabel('Epoch')\n",
    "plt.ylabel('Accuracy')\n",
    "plt.legend(['Train', 'Validation'])\n",
    "\n",
    "plt.tight_layout()\n",
    "plt.show()\n"
   ]
  },
  {
   "cell_type": "code",
   "execution_count": null,
   "id": "2a5de8db-aade-4e50-85e8-59f9c36b8d99",
   "metadata": {},
   "outputs": [],
   "source": []
  }
 ],
 "metadata": {
  "kernelspec": {
   "display_name": "Python 3 (ipykernel)",
   "language": "python",
   "name": "python3"
  },
  "language_info": {
   "codemirror_mode": {
    "name": "ipython",
    "version": 3
   },
   "file_extension": ".py",
   "mimetype": "text/x-python",
   "name": "python",
   "nbconvert_exporter": "python",
   "pygments_lexer": "ipython3",
   "version": "3.11.8"
  }
 },
 "nbformat": 4,
 "nbformat_minor": 5
}
