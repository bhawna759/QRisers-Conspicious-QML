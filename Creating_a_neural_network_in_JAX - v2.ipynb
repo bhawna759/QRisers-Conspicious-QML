{
  "nbformat": 4,
  "nbformat_minor": 0,
  "metadata": {
    "colab": {
      "name": "Creating a neural network in JAX.ipynb",
      "provenance": []
    },
    "kernelspec": {
      "name": "python3",
      "display_name": "Python 3"
    },
    "widgets": {
      "application/vnd.jupyter.widget-state+json": {
        "9a8698ab776a495e8566156761e56f8f": {
          "model_module": "@jupyter-widgets/controls",
          "model_name": "HBoxModel",
          "state": {
            "_view_name": "HBoxView",
            "_dom_classes": [],
            "_model_name": "HBoxModel",
            "_view_module": "@jupyter-widgets/controls",
            "_model_module_version": "1.5.0",
            "_view_count": null,
            "_view_module_version": "1.5.0",
            "box_style": "",
            "layout": "IPY_MODEL_20245399e5ea461d9d1c624633f57d04",
            "_model_module": "@jupyter-widgets/controls",
            "children": [
              "IPY_MODEL_dff2ed833fef4ecd97d9a7984828f1a7",
              "IPY_MODEL_0661e5ada00a42e9bec7fba7d2052a3d"
            ]
          },
          "model_module_version": "1.5.0"
        },
        "20245399e5ea461d9d1c624633f57d04": {
          "model_module": "@jupyter-widgets/base",
          "model_name": "LayoutModel",
          "state": {
            "_view_name": "LayoutView",
            "grid_template_rows": null,
            "right": null,
            "justify_content": null,
            "_view_module": "@jupyter-widgets/base",
            "overflow": null,
            "_model_module_version": "1.2.0",
            "_view_count": null,
            "flex_flow": null,
            "width": null,
            "min_width": null,
            "border": null,
            "align_items": null,
            "bottom": null,
            "_model_module": "@jupyter-widgets/base",
            "top": null,
            "grid_column": null,
            "overflow_y": null,
            "overflow_x": null,
            "grid_auto_flow": null,
            "grid_area": null,
            "grid_template_columns": null,
            "flex": null,
            "_model_name": "LayoutModel",
            "justify_items": null,
            "grid_row": null,
            "max_height": null,
            "align_content": null,
            "visibility": null,
            "align_self": null,
            "height": null,
            "min_height": null,
            "padding": null,
            "grid_auto_rows": null,
            "grid_gap": null,
            "max_width": null,
            "order": null,
            "_view_module_version": "1.2.0",
            "grid_template_areas": null,
            "object_position": null,
            "object_fit": null,
            "grid_auto_columns": null,
            "margin": null,
            "display": null,
            "left": null
          },
          "model_module_version": "1.2.0"
        },
        "dff2ed833fef4ecd97d9a7984828f1a7": {
          "model_module": "@jupyter-widgets/controls",
          "model_name": "FloatProgressModel",
          "state": {
            "_view_name": "ProgressView",
            "style": "IPY_MODEL_78e9ec2316794597be3f7814429149f9",
            "_dom_classes": [],
            "description": "100%",
            "_model_name": "FloatProgressModel",
            "bar_style": "success",
            "max": 10,
            "_view_module": "@jupyter-widgets/controls",
            "_model_module_version": "1.5.0",
            "value": 10,
            "_view_count": null,
            "_view_module_version": "1.5.0",
            "orientation": "horizontal",
            "min": 0,
            "description_tooltip": null,
            "_model_module": "@jupyter-widgets/controls",
            "layout": "IPY_MODEL_21401a6eb9c74b268d8621953208df2d"
          },
          "model_module_version": "1.5.0"
        },
        "0661e5ada00a42e9bec7fba7d2052a3d": {
          "model_module": "@jupyter-widgets/controls",
          "model_name": "HTMLModel",
          "state": {
            "_view_name": "HTMLView",
            "style": "IPY_MODEL_548356a6460e4f4e8027a45b05f5e697",
            "_dom_classes": [],
            "description": "",
            "_model_name": "HTMLModel",
            "placeholder": "​",
            "_view_module": "@jupyter-widgets/controls",
            "_model_module_version": "1.5.0",
            "value": " 10/10 [02:19&lt;00:00, 13.90s/it]",
            "_view_count": null,
            "_view_module_version": "1.5.0",
            "description_tooltip": null,
            "_model_module": "@jupyter-widgets/controls",
            "layout": "IPY_MODEL_fc6d8a79cb294e398516ee9e258b57e0"
          },
          "model_module_version": "1.5.0"
        },
        "78e9ec2316794597be3f7814429149f9": {
          "model_module": "@jupyter-widgets/controls",
          "model_name": "ProgressStyleModel",
          "state": {
            "_view_name": "StyleView",
            "_model_name": "ProgressStyleModel",
            "description_width": "initial",
            "_view_module": "@jupyter-widgets/base",
            "_model_module_version": "1.5.0",
            "_view_count": null,
            "_view_module_version": "1.2.0",
            "bar_color": null,
            "_model_module": "@jupyter-widgets/controls"
          },
          "model_module_version": "1.5.0"
        },
        "21401a6eb9c74b268d8621953208df2d": {
          "model_module": "@jupyter-widgets/base",
          "model_name": "LayoutModel",
          "state": {
            "_view_name": "LayoutView",
            "grid_template_rows": null,
            "right": null,
            "justify_content": null,
            "_view_module": "@jupyter-widgets/base",
            "overflow": null,
            "_model_module_version": "1.2.0",
            "_view_count": null,
            "flex_flow": null,
            "width": null,
            "min_width": null,
            "border": null,
            "align_items": null,
            "bottom": null,
            "_model_module": "@jupyter-widgets/base",
            "top": null,
            "grid_column": null,
            "overflow_y": null,
            "overflow_x": null,
            "grid_auto_flow": null,
            "grid_area": null,
            "grid_template_columns": null,
            "flex": null,
            "_model_name": "LayoutModel",
            "justify_items": null,
            "grid_row": null,
            "max_height": null,
            "align_content": null,
            "visibility": null,
            "align_self": null,
            "height": null,
            "min_height": null,
            "padding": null,
            "grid_auto_rows": null,
            "grid_gap": null,
            "max_width": null,
            "order": null,
            "_view_module_version": "1.2.0",
            "grid_template_areas": null,
            "object_position": null,
            "object_fit": null,
            "grid_auto_columns": null,
            "margin": null,
            "display": null,
            "left": null
          },
          "model_module_version": "1.2.0"
        },
        "548356a6460e4f4e8027a45b05f5e697": {
          "model_module": "@jupyter-widgets/controls",
          "model_name": "DescriptionStyleModel",
          "state": {
            "_view_name": "StyleView",
            "_model_name": "DescriptionStyleModel",
            "description_width": "",
            "_view_module": "@jupyter-widgets/base",
            "_model_module_version": "1.5.0",
            "_view_count": null,
            "_view_module_version": "1.2.0",
            "_model_module": "@jupyter-widgets/controls"
          },
          "model_module_version": "1.5.0"
        },
        "fc6d8a79cb294e398516ee9e258b57e0": {
          "model_module": "@jupyter-widgets/base",
          "model_name": "LayoutModel",
          "state": {
            "_view_name": "LayoutView",
            "grid_template_rows": null,
            "right": null,
            "justify_content": null,
            "_view_module": "@jupyter-widgets/base",
            "overflow": null,
            "_model_module_version": "1.2.0",
            "_view_count": null,
            "flex_flow": null,
            "width": null,
            "min_width": null,
            "border": null,
            "align_items": null,
            "bottom": null,
            "_model_module": "@jupyter-widgets/base",
            "top": null,
            "grid_column": null,
            "overflow_y": null,
            "overflow_x": null,
            "grid_auto_flow": null,
            "grid_area": null,
            "grid_template_columns": null,
            "flex": null,
            "_model_name": "LayoutModel",
            "justify_items": null,
            "grid_row": null,
            "max_height": null,
            "align_content": null,
            "visibility": null,
            "align_self": null,
            "height": null,
            "min_height": null,
            "padding": null,
            "grid_auto_rows": null,
            "grid_gap": null,
            "max_width": null,
            "order": null,
            "_view_module_version": "1.2.0",
            "grid_template_areas": null,
            "object_position": null,
            "object_fit": null,
            "grid_auto_columns": null,
            "margin": null,
            "display": null,
            "left": null
          },
          "model_module_version": "1.2.0"
        }
      }
    }
  },
  "cells": [
    {
      "cell_type": "markdown",
      "metadata": {
        "id": "qc7lgD58WLPi"
      },
      "source": [
        "# Creating a neural network in JAX\n",
        "\n",
        "[JAX](https://github.com/google/jax) is a new python library that offers autograd and XLA, leading to high-performance machine learning, and numeric research. JAX works just as numpy and using jit (just in time) compilation, you can have high-performance without going to low level languages. One awesome thing is that, just as tensorflow, you can use GPUs and TPUs for acceleration."
      ]
    },
    {
      "cell_type": "markdown",
      "metadata": {
        "id": "cihTW51hX_MJ"
      },
      "source": [
        "# 1) Using vmap, grad and jit\n",
        "\n",
        "## 1.1) jit\n",
        "\n",
        "In order to speed up your code, you can use the jit decorator, `@jit` which will cached your operation. Let's compare the speed with and without jit. This example is taken from the [Jax Quickstart Guide](https://jax.readthedocs.io/en/latest/notebooks/quickstart.html)\n"
      ]
    },
    {
      "cell_type": "code",
      "metadata": {
        "id": "NvdxcOafXCls",
        "colab": {
          "base_uri": "https://localhost:8080/"
        },
        "outputId": "6b32702a-16a8-4264-ed1c-d5ea46a5d901"
      },
      "source": [
        "from jax import random\n",
        "import jax.numpy as jnp\n",
        "\n",
        "def selu(x, alpha=1.67, lmbda=1.05):\n",
        "  return lmbda * jnp.where(x > 0, x, alpha * jnp.exp(x) - alpha)\n",
        "\n",
        "key = random.PRNGKey(0)\n",
        "x = random.normal(key, (1000000,))\n",
        "%timeit selu(x).block_until_ready()"
      ],
      "execution_count": 84,
      "outputs": [
        {
          "output_type": "stream",
          "name": "stdout",
          "text": [
            "4.04 ms ± 161 µs per loop (mean ± std. dev. of 7 runs, 100 loops each)\n"
          ]
        }
      ]
    },
    {
      "cell_type": "code",
      "metadata": {
        "id": "eqf5qkSLpH9w",
        "colab": {
          "base_uri": "https://localhost:8080/",
          "height": 52
        },
        "outputId": "54f5a5d1-3912-4776-900e-40ead6e5b266"
      },
      "source": [
        "from jax import jit\n",
        "selu_jit = jit(selu)\n",
        "%timeit selu_jit(x).block_until_ready()"
      ],
      "execution_count": null,
      "outputs": [
        {
          "output_type": "stream",
          "text": [
            "The slowest run took 23.63 times longer than the fastest. This could mean that an intermediate result is being cached.\n",
            "1000 loops, best of 3: 1.46 ms per loop\n"
          ],
          "name": "stdout"
        }
      ]
    },
    {
      "cell_type": "markdown",
      "metadata": {
        "id": "pZt8z-8ELQEK"
      },
      "source": [
        "We see that with jit, we go 6 ms faster than without jit. Another remark is that we put the `block_until_ready()` method because asynchronous update by default."
      ]
    },
    {
      "cell_type": "markdown",
      "metadata": {
        "id": "1mMlfYvxL6NK"
      },
      "source": [
        "## 1.2) grad\n",
        "\n",
        "Taking the gradient in JAX is pretty easy, you just need to call the `grad` function from the JAX library. Let's begin with a simple example that is calculating the grad of $x^2$. From calculus, we know that:\n",
        "\n",
        "$$\n",
        "\\frac{\\partial x^2}{\\partial x} = 2 x\n",
        "$$\n",
        "\n",
        "$$\n",
        "\\frac{\\partial^2 x^2}{\\partial x^2} = 2\n",
        "$$\n",
        "\n",
        "$$\n",
        "\\frac{\\partial^3 x^2}{\\partial x^3} = 0\n",
        "$$"
      ]
    },
    {
      "cell_type": "code",
      "metadata": {
        "id": "VEarjYZDMIIl",
        "colab": {
          "base_uri": "https://localhost:8080/",
          "height": 69
        },
        "outputId": "35b36c9e-39c7-47a9-8215-3416f14f4b59"
      },
      "source": [
        "from jax import grad\n",
        "square = lambda x: np.square(x)\n",
        "\n",
        "grad_square = grad(square)\n",
        "grad_grad_square = grad(grad(square))\n",
        "grad_grad_grad_square = grad(grad(grad(square)))\n",
        "print(f\"grad 2² = \", grad_square(2.))\n",
        "print(f\"grad grad 2² = \", grad_grad_square(2.))\n",
        "print(f\"grad grad grad 2² = \", grad_grad_grad_square(2.))"
      ],
      "execution_count": null,
      "outputs": [
        {
          "output_type": "stream",
          "text": [
            "grad 2² =  4.0\n",
            "grad grad 2² =  2.0\n",
            "grad grad grad 2² =  0.0\n"
          ],
          "name": "stdout"
        }
      ]
    },
    {
      "cell_type": "markdown",
      "metadata": {
        "id": "E6nep480KJat"
      },
      "source": [
        "## 1.3) vmap\n",
        "\n",
        "vmap, or vectorizing map, maps a function along array axes, having better performance mainly when is composed with jit. Let's apply this for matrix-vector products.\n"
      ]
    },
    {
      "cell_type": "code",
      "metadata": {
        "id": "abw2atHoKMCh"
      },
      "source": [
        "mat = random.normal(key, (150, 100))\n",
        "batched_x = random.normal(key, (10, 100))\n",
        "\n",
        "def apply_matrix(v):\n",
        "  return np.dot(mat, v)"
      ],
      "execution_count": null,
      "outputs": []
    },
    {
      "cell_type": "markdown",
      "metadata": {
        "id": "Gx-4mXhoNAtk"
      },
      "source": [
        "In order to batch naively, we can use a for loop to batch."
      ]
    },
    {
      "cell_type": "code",
      "metadata": {
        "id": "ZPVzesKnKMH4",
        "colab": {
          "base_uri": "https://localhost:8080/",
          "height": 52
        },
        "outputId": "02cf2453-9ef0-4610-d941-43ba6bec2cd5"
      },
      "source": [
        "def naively_batched_apply_matrix(v_batched):\n",
        "  return np.stack([apply_matrix(v) for v in v_batched])\n",
        "\n",
        "print('Naively batched')\n",
        "%timeit naively_batched_apply_matrix(batched_x).block_until_ready()"
      ],
      "execution_count": null,
      "outputs": [
        {
          "output_type": "stream",
          "text": [
            "Naively batched\n",
            "100 loops, best of 3: 4.63 ms per loop\n"
          ],
          "name": "stdout"
        }
      ]
    },
    {
      "cell_type": "markdown",
      "metadata": {
        "id": "-e7HT3iUNUT7"
      },
      "source": [
        "Now we can use vmap to batch our multiplication"
      ]
    },
    {
      "cell_type": "code",
      "metadata": {
        "id": "K1psZa0TNX4E",
        "colab": {
          "base_uri": "https://localhost:8080/",
          "height": 69
        },
        "outputId": "4b88cc44-aac6-469a-f53e-845cec77f284"
      },
      "source": [
        "from jax import vmap\n",
        "\n",
        "@jit\n",
        "def vmap_batched_apply_matrix(v_batched):\n",
        "  return vmap(apply_matrix)(v_batched)\n",
        "\n",
        "print('Auto-vectorized with vmap')\n",
        "%timeit vmap_batched_apply_matrix(batched_x).block_until_ready()"
      ],
      "execution_count": null,
      "outputs": [
        {
          "output_type": "stream",
          "text": [
            "Auto-vectorized with vmap\n",
            "The slowest run took 57.86 times longer than the fastest. This could mean that an intermediate result is being cached.\n",
            "1000 loops, best of 3: 281 µs per loop\n"
          ],
          "name": "stdout"
        }
      ]
    },
    {
      "cell_type": "markdown",
      "metadata": {
        "id": "02NT9XfjN0z3"
      },
      "source": [
        "Now we can apply this for creating neural networks."
      ]
    },
    {
      "cell_type": "markdown",
      "metadata": {
        "id": "dfd-p52apAoo"
      },
      "source": [
        "# 2 ) Using STAX for Convolutional Neural Networks\n",
        "\n",
        "As a first example, we shall use MNIST (as always) to train a convolutional neural network using stax. It is important to import the original numpy package for shuffling and random generation."
      ]
    },
    {
      "cell_type": "code",
      "metadata": {
        "id": "2YTk78fa5ipn"
      },
      "source": [
        "import jax.numpy as jnp\n",
        "import numpy as np"
      ],
      "execution_count": 85,
      "outputs": []
    },
    {
      "cell_type": "markdown",
      "metadata": {
        "id": "c03DAvA9OJcl"
      },
      "source": [
        "Let's import MNIST using `tensorflow_datasets` and transform the data into a np.array."
      ]
    },
    {
      "cell_type": "code",
      "metadata": {
        "id": "yAwbJIU55Skh"
      },
      "source": [
        "import tensorflow_datasets as tfds\n",
        "data_dir = '/tmp/tfds'\n",
        "mnist_data, info = tfds.load(name=\"mnist\", batch_size=-1, data_dir=data_dir, with_info=True)\n",
        "mnist_data = tfds.as_numpy(mnist_data)\n",
        "train_data, test_data = mnist_data['train'], mnist_data['test']\n",
        "num_labels = info.features['label'].num_classes\n",
        "h, w, c = info.features['image'].shape\n",
        "num_pixels = h * w * c\n",
        "\n",
        "from IPython.display import clear_output\n",
        "clear_output()"
      ],
      "execution_count": 2,
      "outputs": []
    },
    {
      "cell_type": "code",
      "source": [
        "num_labels"
      ],
      "metadata": {
        "colab": {
          "base_uri": "https://localhost:8080/"
        },
        "id": "t-KYqHkYj0wg",
        "outputId": "2f2fe9db-1f7c-43eb-9db9-ddf818974f7d"
      },
      "execution_count": 7,
      "outputs": [
        {
          "output_type": "execute_result",
          "data": {
            "text/plain": [
              "10"
            ]
          },
          "metadata": {},
          "execution_count": 7
        }
      ]
    },
    {
      "cell_type": "code",
      "source": [
        "info.features['label']"
      ],
      "metadata": {
        "colab": {
          "base_uri": "https://localhost:8080/"
        },
        "id": "FngmXsYAfJm7",
        "outputId": "31a363ea-09b1-492d-8a42-7add52fd84cf"
      },
      "execution_count": 6,
      "outputs": [
        {
          "output_type": "execute_result",
          "data": {
            "text/plain": [
              "ClassLabel(shape=(), dtype=int64, num_classes=10)"
            ]
          },
          "metadata": {},
          "execution_count": 6
        }
      ]
    },
    {
      "cell_type": "code",
      "source": [
        "info"
      ],
      "metadata": {
        "colab": {
          "base_uri": "https://localhost:8080/"
        },
        "id": "6LOfl7eQetwx",
        "outputId": "2f66a2f3-dc5c-4fce-ba47-a25a54a42047"
      },
      "execution_count": 3,
      "outputs": [
        {
          "output_type": "execute_result",
          "data": {
            "text/plain": [
              "tfds.core.DatasetInfo(\n",
              "    name='mnist',\n",
              "    full_name='mnist/3.0.1',\n",
              "    description=\"\"\"\n",
              "    The MNIST database of handwritten digits.\n",
              "    \"\"\",\n",
              "    homepage='http://yann.lecun.com/exdb/mnist/',\n",
              "    data_dir='/tmp/tfds/mnist/incomplete.SB66UU_3.0.1/',\n",
              "    file_format=tfrecord,\n",
              "    download_size=11.06 MiB,\n",
              "    dataset_size=21.00 MiB,\n",
              "    features=FeaturesDict({\n",
              "        'image': Image(shape=(28, 28, 1), dtype=uint8),\n",
              "        'label': ClassLabel(shape=(), dtype=int64, num_classes=10),\n",
              "    }),\n",
              "    supervised_keys=('image', 'label'),\n",
              "    disable_shuffling=False,\n",
              "    splits={\n",
              "        'test': <SplitInfo num_examples=10000, num_shards=1>,\n",
              "        'train': <SplitInfo num_examples=60000, num_shards=1>,\n",
              "    },\n",
              "    citation=\"\"\"@article{lecun2010mnist,\n",
              "      title={MNIST handwritten digit database},\n",
              "      author={LeCun, Yann and Cortes, Corinna and Burges, CJ},\n",
              "      journal={ATT Labs [Online]. Available: http://yann.lecun.com/exdb/mnist},\n",
              "      volume={2},\n",
              "      year={2010}\n",
              "    }\"\"\",\n",
              ")"
            ]
          },
          "metadata": {},
          "execution_count": 3
        }
      ]
    },
    {
      "cell_type": "code",
      "source": [
        "info.features['image'].shape"
      ],
      "metadata": {
        "colab": {
          "base_uri": "https://localhost:8080/"
        },
        "id": "dzZ34ZqUe8qx",
        "outputId": "58605dd3-56f6-48ff-fa91-6899b085ae4d"
      },
      "execution_count": 4,
      "outputs": [
        {
          "output_type": "execute_result",
          "data": {
            "text/plain": [
              "(28, 28, 1)"
            ]
          },
          "metadata": {},
          "execution_count": 4
        }
      ]
    },
    {
      "cell_type": "code",
      "source": [
        "num_pixels"
      ],
      "metadata": {
        "colab": {
          "base_uri": "https://localhost:8080/"
        },
        "id": "1gEnwBk2fLZM",
        "outputId": "085901bf-2658-42b8-ed8d-1e39cf56cbad"
      },
      "execution_count": 5,
      "outputs": [
        {
          "output_type": "execute_result",
          "data": {
            "text/plain": [
              "784"
            ]
          },
          "metadata": {},
          "execution_count": 5
        }
      ]
    },
    {
      "cell_type": "code",
      "source": [
        "train_data['label']"
      ],
      "metadata": {
        "id": "GEefo4rCpjrx",
        "outputId": "2e65549c-d6ba-4742-f121-fb65cfe1aae6",
        "colab": {
          "base_uri": "https://localhost:8080/"
        }
      },
      "execution_count": 11,
      "outputs": [
        {
          "output_type": "execute_result",
          "data": {
            "text/plain": [
              "array([4, 1, 0, ..., 6, 1, 5])"
            ]
          },
          "metadata": {},
          "execution_count": 11
        }
      ]
    },
    {
      "cell_type": "code",
      "source": [
        "train_data['label'][:, None]"
      ],
      "metadata": {
        "id": "UyNrY1Pqo8Ss",
        "outputId": "93b85d68-e55f-4d20-95b4-19fa6cb3c7f8",
        "colab": {
          "base_uri": "https://localhost:8080/"
        }
      },
      "execution_count": 19,
      "outputs": [
        {
          "output_type": "execute_result",
          "data": {
            "text/plain": [
              "array([[4],\n",
              "       [1],\n",
              "       [0],\n",
              "       ...,\n",
              "       [6],\n",
              "       [1],\n",
              "       [5]])"
            ]
          },
          "metadata": {},
          "execution_count": 19
        }
      ]
    },
    {
      "cell_type": "code",
      "source": [
        "np.arange(num_labels)"
      ],
      "metadata": {
        "id": "rwKZUt6qqG6A",
        "outputId": "1dcbff86-b8fd-41ef-dd93-89b7f886b25c",
        "colab": {
          "base_uri": "https://localhost:8080/"
        }
      },
      "execution_count": 14,
      "outputs": [
        {
          "output_type": "execute_result",
          "data": {
            "text/plain": [
              "Array([0, 1, 2, 3, 4, 5, 6, 7, 8, 9], dtype=int32)"
            ]
          },
          "metadata": {},
          "execution_count": 14
        }
      ]
    },
    {
      "cell_type": "code",
      "source": [
        "arr = [[5], [8]]\n",
        "output = []\n",
        "sub = []\n",
        "for n in arr:\n",
        "  for i in range(1, 11):\n",
        "    if i == n[0]:\n",
        "      sub.append(1)\n",
        "    else:\n",
        "      sub.append(0)\n",
        "  output.append(sub)\n",
        "  sub = []\n",
        "\n",
        "print(output)\n",
        "\n",
        "\n",
        ""
      ],
      "metadata": {
        "id": "xabUDTKc4oW6",
        "outputId": "aadd90fd-8916-4af4-8578-c4a864af8771",
        "colab": {
          "base_uri": "https://localhost:8080/"
        }
      },
      "execution_count": 33,
      "outputs": [
        {
          "output_type": "stream",
          "name": "stdout",
          "text": [
            "[[0, 0, 0, 0, 1, 0, 0, 0, 0, 0], [0, 0, 0, 0, 0, 0, 0, 1, 0, 0]]\n"
          ]
        }
      ]
    },
    {
      "cell_type": "code",
      "source": [
        "print(np.array([4]== [4]))"
      ],
      "metadata": {
        "id": "C_a8KJp36KfL",
        "outputId": "43057503-cff2-463f-beb8-87f0e5810f78",
        "colab": {
          "base_uri": "https://localhost:8080/"
        }
      },
      "execution_count": 31,
      "outputs": [
        {
          "output_type": "stream",
          "name": "stdout",
          "text": [
            "True\n"
          ]
        }
      ]
    },
    {
      "cell_type": "markdown",
      "metadata": {
        "id": "5JXUzds2OkjW"
      },
      "source": [
        "Let's split the training and test dataset and one hot encode the labels of our data."
      ]
    },
    {
      "cell_type": "code",
      "metadata": {
        "id": "FWcpLkgX5eAW"
      },
      "source": [
        "def one_hot(x, k, dtype=np.float32):\n",
        "    \"\"\"Create a one-hot encoding of x of size k \"\"\"\n",
        "    return np.array(x[:, None] == np.arange(k), dtype)\n",
        "\n",
        "# Full train set\n",
        "train_images, train_labels = train_data['image'], train_data['label']\n",
        "train_images = np.array(np.moveaxis(train_images, -1, 1), dtype=np.float32)\n",
        "\n",
        "train_labels = one_hot(train_labels, num_labels)\n",
        "\n",
        "# Full test set\n",
        "test_images, test_labels = test_data['image'], test_data['label']\n",
        "test_images = np.array(np.moveaxis(test_images, -1, 1), dtype=np.float32)\n",
        "test_labels = one_hot(test_labels, num_labels)"
      ],
      "execution_count": 16,
      "outputs": []
    },
    {
      "cell_type": "code",
      "source": [
        "arr=jnp.arange(1,10).reshape((3,3))\n",
        "arr"
      ],
      "metadata": {
        "id": "a9oZYKwFBHA9",
        "outputId": "a4c07e74-80e4-4e6b-aaef-016e0f6a1208",
        "colab": {
          "base_uri": "https://localhost:8080/"
        }
      },
      "execution_count": 86,
      "outputs": [
        {
          "output_type": "execute_result",
          "data": {
            "text/plain": [
              "Array([[1, 2, 3],\n",
              "       [4, 5, 6],\n",
              "       [7, 8, 9]], dtype=int32)"
            ]
          },
          "metadata": {},
          "execution_count": 86
        }
      ]
    },
    {
      "cell_type": "code",
      "source": [
        "key = random.PRNGKey(0)\n",
        "arr2 = random.normal(key, (10,))\n",
        "arr3 = random.randint(key, (3, 3), minval=1, maxval=9)"
      ],
      "metadata": {
        "id": "_h_oeWYYEoUI"
      },
      "execution_count": 99,
      "outputs": []
    },
    {
      "cell_type": "code",
      "source": [
        "arr4 = random.normal(key, (9,) ).reshape((3,3))"
      ],
      "metadata": {
        "id": "NPErioReLVGu"
      },
      "execution_count": 109,
      "outputs": []
    },
    {
      "cell_type": "code",
      "source": [
        "arr4"
      ],
      "metadata": {
        "id": "R_Lq3LpKML9o",
        "outputId": "10a82e17-b4cc-4fff-9d60-86f2dda8042e",
        "colab": {
          "base_uri": "https://localhost:8080/"
        }
      },
      "execution_count": 110,
      "outputs": [
        {
          "output_type": "execute_result",
          "data": {
            "text/plain": [
              "Array([[-0.3721109 ,  0.26423115, -0.18252768],\n",
              "       [-0.7368197 ,  0.44973662, -0.1521442 ],\n",
              "       [-0.67135346, -0.5908641 ,  0.73168886]], dtype=float32)"
            ]
          },
          "metadata": {},
          "execution_count": 110
        }
      ]
    },
    {
      "cell_type": "code",
      "source": [
        "jnp.moveaxis(arr4, -1, 1)"
      ],
      "metadata": {
        "id": "F-gKe1KoMOhl",
        "outputId": "433499f0-e3ae-4dfa-bdce-fe0f492ed6e7",
        "colab": {
          "base_uri": "https://localhost:8080/"
        }
      },
      "execution_count": 111,
      "outputs": [
        {
          "output_type": "execute_result",
          "data": {
            "text/plain": [
              "Array([[-0.3721109 ,  0.26423115, -0.18252768],\n",
              "       [-0.7368197 ,  0.44973662, -0.1521442 ],\n",
              "       [-0.67135346, -0.5908641 ,  0.73168886]], dtype=float32)"
            ]
          },
          "metadata": {},
          "execution_count": 111
        }
      ]
    },
    {
      "cell_type": "code",
      "source": [
        "arr3"
      ],
      "metadata": {
        "id": "xZb0r47HLQn_",
        "outputId": "0344a3ef-70d4-4dbb-af54-db2fc2bb797d",
        "colab": {
          "base_uri": "https://localhost:8080/"
        }
      },
      "execution_count": 100,
      "outputs": [
        {
          "output_type": "execute_result",
          "data": {
            "text/plain": [
              "Array([[3, 2, 4],\n",
              "       [7, 2, 6],\n",
              "       [7, 4, 5]], dtype=int32)"
            ]
          },
          "metadata": {},
          "execution_count": 100
        }
      ]
    },
    {
      "cell_type": "code",
      "source": [
        "arr2"
      ],
      "metadata": {
        "id": "4IoJioAPEju7",
        "outputId": "fdc2ae1b-94d5-4127-a798-b80859c40a62",
        "colab": {
          "base_uri": "https://localhost:8080/"
        }
      },
      "execution_count": 98,
      "outputs": [
        {
          "output_type": "execute_result",
          "data": {
            "text/plain": [
              "Array([-0.3721109 ,  0.26423115, -0.18252768, -0.7368197 , -0.44030377,\n",
              "       -0.1521442 , -0.67135346, -0.5908641 ,  0.73168886,  0.5673026 ],      dtype=float32)"
            ]
          },
          "metadata": {},
          "execution_count": 98
        }
      ]
    },
    {
      "cell_type": "code",
      "source": [
        "jnp.moveaxis(arr, -1, 1)"
      ],
      "metadata": {
        "id": "YiNduWMi_46L",
        "outputId": "e79f8ab0-aa62-458f-8c17-ef9fbd336ed8",
        "colab": {
          "base_uri": "https://localhost:8080/"
        }
      },
      "execution_count": 94,
      "outputs": [
        {
          "output_type": "execute_result",
          "data": {
            "text/plain": [
              "Array([[1, 2, 3],\n",
              "       [4, 5, 6],\n",
              "       [7, 8, 9]], dtype=int32)"
            ]
          },
          "metadata": {},
          "execution_count": 94
        }
      ]
    },
    {
      "cell_type": "code",
      "source": [
        "jnp.moveaxis(arr3, -1, 1)"
      ],
      "metadata": {
        "id": "9lV9tZFEDtnb",
        "outputId": "37e3b2db-9353-4b34-8f68-27bc532a922f",
        "colab": {
          "base_uri": "https://localhost:8080/"
        }
      },
      "execution_count": 105,
      "outputs": [
        {
          "output_type": "execute_result",
          "data": {
            "text/plain": [
              "Array([[3, 2, 4],\n",
              "       [7, 2, 6],\n",
              "       [7, 4, 5]], dtype=int32)"
            ]
          },
          "metadata": {},
          "execution_count": 105
        }
      ]
    },
    {
      "cell_type": "code",
      "source": [
        "plt.imshow(train_data['image'][1])"
      ],
      "metadata": {
        "id": "usNA6_dS-xjH",
        "outputId": "c66190b4-a6be-4e03-86b4-006777b632fb",
        "colab": {
          "base_uri": "https://localhost:8080/",
          "height": 447
        }
      },
      "execution_count": 52,
      "outputs": [
        {
          "output_type": "execute_result",
          "data": {
            "text/plain": [
              "<matplotlib.image.AxesImage at 0x7eb417a93e20>"
            ]
          },
          "metadata": {},
          "execution_count": 52
        },
        {
          "output_type": "display_data",
          "data": {
            "text/plain": [
              "<Figure size 640x480 with 1 Axes>"
            ],
            "image/png": "[encoded data removed]"
          },
          "metadata": {}
        }
      ]
    },
    {
      "cell_type": "code",
      "source": [
        "import cv2\n",
        "import matplotlib.pyplot as plt"
      ],
      "metadata": {
        "id": "R80VogjI7x-7"
      },
      "execution_count": 38,
      "outputs": []
    },
    {
      "cell_type": "code",
      "source": [
        "plt.figure(figsize = (5,5))\n",
        "plt.imshow(train_images[0][0])\n",
        "plt.show()"
      ],
      "metadata": {
        "id": "7EBqHhpP8ien",
        "outputId": "ced9d4f8-c29b-43ae-d8c4-679d3f991e32",
        "colab": {
          "base_uri": "https://localhost:8080/",
          "height": 445
        }
      },
      "execution_count": 42,
      "outputs": [
        {
          "output_type": "display_data",
          "data": {
            "text/plain": [
              "<Figure size 500x500 with 1 Axes>"
            ],
            "image/png": "[encoded data removed]"
          },
          "metadata": {}
        }
      ]
    },
    {
      "cell_type": "code",
      "source": [
        "# code to print second image in dataframe\n",
        "print(train_images[1][0])"
      ],
      "metadata": {
        "id": "Dv-G888e-i8A",
        "outputId": "e13f9cd6-2759-4a75-d167-a725b592da44",
        "colab": {
          "base_uri": "https://localhost:8080/"
        }
      },
      "execution_count": 43,
      "outputs": [
        {
          "output_type": "stream",
          "name": "stdout",
          "text": [
            "[[  0.   0.   0.   0.   0.   0.   0.   0.   0.   0.   0.   0.   0.   0.\n",
            "    0.   0.   0.   0.   0.   0.   0.   0.   0.   0.   0.   0.   0.   0.]\n",
            " [  0.   0.   0.   0.   0.   0.   0.   0.   0.   0.   0.   0.   0.   0.\n",
            "    0.   0.   0.   0.   0.   0.   0.   0.   0.   0.   0.   0.   0.   0.]\n",
            " [  0.   0.   0.   0.   0.   0.   0.   0.   0.   0.   0.   0.   0.   0.\n",
            "    0.   0.   0.   0.   0.   0.   0.   0.   0.   0.   0.   0.   0.   0.]\n",
            " [  0.   0.   0.   0.   0.   0.   0.   0.   0.   0.   0.   0.   0.   0.\n",
            "    0.   0.   0.   0.   0.   0.   0.   0.   0.   0.   0.   0.   0.   0.]\n",
            " [  0.   0.   0.   0.   0.   0.   0.   0.   0.   0.   0.   0.   0.   0.\n",
            "    0.   0.   0.   0.   0.   0.   0.   0.   0.   0.   0.   0.   0.   0.]\n",
            " [  0.   0.   0.   0.   0.   0.   0.   0.   0.   0.   0.   0.   0.   0.\n",
            "    0.   0.   9. 159. 169.   2.   0.   0.   0.   0.   0.   0.   0.   0.]\n",
            " [  0.   0.   0.   0.   0.   0.   0.   0.   0.   0.   0.   0.   0.   0.\n",
            "    0.   1. 162. 254. 254.  49.   0.   0.   0.   0.   0.   0.   0.   0.]\n",
            " [  0.   0.   0.   0.   0.   0.   0.   0.   0.   0.   0.   0.   0.   0.\n",
            "    0.  43. 254. 254. 240.  29.   0.   0.   0.   0.   0.   0.   0.   0.]\n",
            " [  0.   0.   0.   0.   0.   0.   0.   0.   0.   0.   0.   0.   0.   0.\n",
            "    0. 128. 254. 254. 210.   0.   0.   0.   0.   0.   0.   0.   0.   0.]\n",
            " [  0.   0.   0.   0.   0.   0.   0.   0.   0.   0.   0.   0.   0.   0.\n",
            "    0. 239. 254. 250.  90.   0.   0.   0.   0.   0.   0.   0.   0.   0.]\n",
            " [  0.   0.   0.   0.   0.   0.   0.   0.   0.   0.   0.   0.   0.   0.\n",
            "   16. 254. 254. 229.   0.   0.   0.   0.   0.   0.   0.   0.   0.   0.]\n",
            " [  0.   0.   0.   0.   0.   0.   0.   0.   0.   0.   0.   0.   0.   0.\n",
            "  146. 254. 254. 184.   0.   0.   0.   0.   0.   0.   0.   0.   0.   0.]\n",
            " [  0.   0.   0.   0.   0.   0.   0.   0.   0.   0.   0.   0.   0.   0.\n",
            "  246. 254. 254.  73.   0.   0.   0.   0.   0.   0.   0.   0.   0.   0.]\n",
            " [  0.   0.   0.   0.   0.   0.   0.   0.   0.   0.   0.   0.   0.   0.\n",
            "  246. 254. 238.   4.   0.   0.   0.   0.   0.   0.   0.   0.   0.   0.]\n",
            " [  0.   0.   0.   0.   0.   0.   0.   0.   0.   0.   0.   0.   0.  48.\n",
            "  251. 254. 131.   0.   0.   0.   0.   0.   0.   0.   0.   0.   0.   0.]\n",
            " [  0.   0.   0.   0.   0.   0.   0.   0.   0.   0.   0.   0.   0. 186.\n",
            "  255. 250.  24.   0.   0.   0.   0.   0.   0.   0.   0.   0.   0.   0.]\n",
            " [  0.   0.   0.   0.   0.   0.   0.   0.   0.   0.   0.   0.  31. 244.\n",
            "  254. 214.   0.   0.   0.   0.   0.   0.   0.   0.   0.   0.   0.   0.]\n",
            " [  0.   0.   0.   0.   0.   0.   0.   0.   0.   0.   0.   0. 148. 254.\n",
            "  254.  96.   0.   0.   0.   0.   0.   0.   0.   0.   0.   0.   0.   0.]\n",
            " [  0.   0.   0.   0.   0.   0.   0.   0.   0.   0.   0.   0. 211. 254.\n",
            "  254.   0.   0.   0.   0.   0.   0.   0.   0.   0.   0.   0.   0.   0.]\n",
            " [  0.   0.   0.   0.   0.   0.   0.   0.   0.   0.   0.  47. 249. 254.\n",
            "  174.   0.   0.   0.   0.   0.   0.   0.   0.   0.   0.   0.   0.   0.]\n",
            " [  0.   0.   0.   0.   0.   0.   0.   0.   0.   0.   0. 196. 254. 254.\n",
            "   48.   0.   0.   0.   0.   0.   0.   0.   0.   0.   0.   0.   0.   0.]\n",
            " [  0.   0.   0.   0.   0.   0.   0.   0.   0.   0.  12. 229. 254. 237.\n",
            "    6.   0.   0.   0.   0.   0.   0.   0.   0.   0.   0.   0.   0.   0.]\n",
            " [  0.   0.   0.   0.   0.   0.   0.   0.   0.   0.  50. 254. 254. 180.\n",
            "    0.   0.   0.   0.   0.   0.   0.   0.   0.   0.   0.   0.   0.   0.]\n",
            " [  0.   0.   0.   0.   0.   0.   0.   0.   0.   0. 127. 254. 254.  79.\n",
            "    0.   0.   0.   0.   0.   0.   0.   0.   0.   0.   0.   0.   0.   0.]\n",
            " [  0.   0.   0.   0.   0.   0.   0.   0.   0.   0.  20. 233. 232.  11.\n",
            "    0.   0.   0.   0.   0.   0.   0.   0.   0.   0.   0.   0.   0.   0.]\n",
            " [  0.   0.   0.   0.   0.   0.   0.   0.   0.   0.   0.   0.   0.   0.\n",
            "    0.   0.   0.   0.   0.   0.   0.   0.   0.   0.   0.   0.   0.   0.]\n",
            " [  0.   0.   0.   0.   0.   0.   0.   0.   0.   0.   0.   0.   0.   0.\n",
            "    0.   0.   0.   0.   0.   0.   0.   0.   0.   0.   0.   0.   0.   0.]\n",
            " [  0.   0.   0.   0.   0.   0.   0.   0.   0.   0.   0.   0.   0.   0.\n",
            "    0.   0.   0.   0.   0.   0.   0.   0.   0.   0.   0.   0.   0.   0.]]\n"
          ]
        }
      ]
    },
    {
      "cell_type": "code",
      "source": [
        "train_labels[:2]"
      ],
      "metadata": {
        "id": "9IAEZ6wn4Cix",
        "outputId": "b3f92456-a14b-42eb-92ad-6c25c53464ae",
        "colab": {
          "base_uri": "https://localhost:8080/"
        }
      },
      "execution_count": 18,
      "outputs": [
        {
          "output_type": "execute_result",
          "data": {
            "text/plain": [
              "Array([[0., 0., 0., 0., 1., 0., 0., 0., 0., 0.],\n",
              "       [0., 1., 0., 0., 0., 0., 0., 0., 0., 0.]], dtype=float32)"
            ]
          },
          "metadata": {},
          "execution_count": 18
        }
      ]
    },
    {
      "cell_type": "markdown",
      "metadata": {
        "id": "0mUUO8eeOsy-"
      },
      "source": [
        "Now we need to construct a data_stream which will generate our batch data, this data stream will shuffle the training dataset. First let's define the batch size and how many batches should be used for going through all the data."
      ]
    },
    {
      "cell_type": "code",
      "metadata": {
        "id": "CD2iWm6O6Vfo"
      },
      "source": [
        "batch_size = 128\n",
        "num_train = train_images.shape[0]\n",
        "num_complete_batches, leftover = divmod(num_train, batch_size)\n",
        "num_batches = num_complete_batches + bool(leftover)"
      ],
      "execution_count": null,
      "outputs": []
    },
    {
      "cell_type": "code",
      "metadata": {
        "id": "lwrfAHVU5bCt"
      },
      "source": [
        "def data_stream():\n",
        "  \"\"\"Creates a data stream with a predifined batch size.\n",
        "  \"\"\"\n",
        "  rng = onp.random.RandomState(0)\n",
        "  while True:\n",
        "    perm = rng.permutation(num_train)\n",
        "    for i in range(num_batches):\n",
        "      batch_idx = perm[i * batch_size: (i + 1)*batch_size]\n",
        "      yield train_images[batch_idx], train_labels[batch_idx]\n",
        "\n",
        "batches = data_stream()"
      ],
      "execution_count": null,
      "outputs": []
    },
    {
      "cell_type": "markdown",
      "metadata": {
        "id": "NZ2zB2f_Q5Oj"
      },
      "source": [
        "Now let's construct our network, we will contruct a simple convolutional neural network with 4 convoclutional blocks with batchnorm and relu and a dense softmax as output of the neural network.\n",
        "\n",
        "First you define your neural network using `stax.serial` and get the init_fun and conv_net, the former is the initialization function of the network and the latter is your neural network which we will use on the update function.\n",
        "\n",
        "After defining our network, we initialize it using the init function and we get our network parameters which we will optimize."
      ]
    },
    {
      "cell_type": "code",
      "metadata": {
        "id": "T3RqHXV3RgiB"
      },
      "source": [
        "from jax.experimental import stax\n",
        "from jax import random\n",
        "from jax.experimental.stax import (BatchNorm, Conv, Dense, Flatten,\n",
        "                                   Relu, LogSoftmax)\n",
        "\n",
        "init_fun, conv_net = stax.serial(Conv(32, (5, 5), (2, 2), padding=\"SAME\"),\n",
        "                                 BatchNorm(), Relu,\n",
        "                                 Conv(32, (5, 5), (2, 2), padding=\"SAME\"),\n",
        "                                 BatchNorm(), Relu,\n",
        "                                 Conv(10, (3, 3), (2, 2), padding=\"SAME\"),\n",
        "                                 BatchNorm(), Relu,\n",
        "                                 Conv(10, (3, 3), (2, 2), padding=\"SAME\"), Relu,\n",
        "                                 Flatten,\n",
        "                                 Dense(num_labels),\n",
        "                                 LogSoftmax)\n",
        "\n",
        "\n",
        "key = random.PRNGKey(0)\n",
        "_, params = init_fun(key, (-1,) + train_images.shape[1:]) # -1 for varying batch size"
      ],
      "execution_count": null,
      "outputs": []
    },
    {
      "cell_type": "markdown",
      "metadata": {
        "id": "fL5-8yA_Wm6p"
      },
      "source": [
        "Now let's define the accuracy and the loss function."
      ]
    },
    {
      "cell_type": "code",
      "metadata": {
        "id": "81weE1vnW1Lg"
      },
      "source": [
        "def accuracy(params, batch):\n",
        "  \"\"\" Calculates the accuracy in a batch.\n",
        "\n",
        "  Args:\n",
        "    params : Neural network parameters.\n",
        "    batch : Batch consisting of images and labels.\n",
        "\n",
        "  Outputs:\n",
        "    (float) : Mean value of the accuracy.\n",
        "  \"\"\"\n",
        "\n",
        "  # Unpack the input and targets\n",
        "  inputs, targets = batch\n",
        "\n",
        "  # Get the label of the one-hot encoded target\n",
        "  target_class = np.argmax(targets, axis=1)\n",
        "\n",
        "  # Predict the class of the batch of images using\n",
        "  # the conv_net defined before\n",
        "  predicted_class = np.argmax(conv_net(params, inputs), axis=1)\n",
        "\n",
        "  return np.mean(predicted_class == target_class)"
      ],
      "execution_count": null,
      "outputs": []
    },
    {
      "cell_type": "code",
      "metadata": {
        "id": "RNGnMij4Xgfh"
      },
      "source": [
        "def loss(params, batch):\n",
        "  \"\"\" Cross entropy loss.\n",
        "  Args:\n",
        "    params : Neural network parameters.\n",
        "    batch : Batch consisting of images and labels.\n",
        "\n",
        "  Outputs:\n",
        "    (float) : Sum of the cross entropy loss over the batch.\n",
        "  \"\"\"\n",
        "  # Unpack the input and targets\n",
        "  images, targets = batch\n",
        "  # precdict the class using the neural network\n",
        "  preds = conv_net(params, images)\n",
        "\n",
        "  return -np.sum(preds * targets)"
      ],
      "execution_count": null,
      "outputs": []
    },
    {
      "cell_type": "markdown",
      "metadata": {
        "id": "OPgK7NV-ZXA3"
      },
      "source": [
        "Let's define which optimizer we shall use for training our neural network. Here we shall select the adam optimizer and initialize the optimizer with our neural network parameters."
      ]
    },
    {
      "cell_type": "code",
      "metadata": {
        "id": "ysWZCcMMZWD0"
      },
      "source": [
        "from jax.experimental import optimizers\n",
        "\n",
        "step_size = 1e-3\n",
        "opt_init, opt_update, get_params = optimizers.adam(step_size)\n",
        "opt_state = opt_init(params)"
      ],
      "execution_count": null,
      "outputs": []
    },
    {
      "cell_type": "markdown",
      "metadata": {
        "id": "H8f_vhCVYyi6"
      },
      "source": [
        "In order to create our update function for the network, we shall use the `jit` decorator to make things faster.\n",
        "\n",
        "Inside the update function we take the value and gradient of the loss function given for the given parameters and the dataset and update our parameters using the optimizer."
      ]
    },
    {
      "cell_type": "code",
      "metadata": {
        "id": "au-SB-m-tSZg"
      },
      "source": [
        "from jax import jit, value_and_grad\n",
        "\n",
        "@jit\n",
        "def update(params, x, y, opt_state):\n",
        "    \"\"\" Compute the gradient for a batch and update the parameters \"\"\"\n",
        "\n",
        "    # Take the gradient and evaluate the loss function\n",
        "    value, grads = value_and_grad(loss)(params, (x, y))\n",
        "\n",
        "    # Update the network using the gradient taken\n",
        "    opt_state = opt_update(0, grads, opt_state)\n",
        "\n",
        "    return get_params(opt_state), opt_state, value"
      ],
      "execution_count": null,
      "outputs": []
    },
    {
      "cell_type": "markdown",
      "metadata": {
        "id": "UhSqwEbFaOxk"
      },
      "source": [
        "Now we shall create a training loop for the neural network, we run the loop for a number of epochs and run on all data using the data_stream that we defined before.\n",
        "\n",
        "Then we record the loss and accuracy for each epoch."
      ]
    },
    {
      "cell_type": "code",
      "metadata": {
        "id": "ZBfvlL5XIz_q",
        "colab": {
          "base_uri": "https://localhost:8080/",
          "height": 66,
          "referenced_widgets": [
            "9a8698ab776a495e8566156761e56f8f",
            "20245399e5ea461d9d1c624633f57d04",
            "dff2ed833fef4ecd97d9a7984828f1a7",
            "0661e5ada00a42e9bec7fba7d2052a3d",
            "78e9ec2316794597be3f7814429149f9",
            "21401a6eb9c74b268d8621953208df2d",
            "548356a6460e4f4e8027a45b05f5e697",
            "fc6d8a79cb294e398516ee9e258b57e0"
          ]
        },
        "outputId": "f9e257c5-f572-4d85-def2-c61f133d9451"
      },
      "source": [
        "from tqdm.notebook import tqdm\n",
        "train_acc, test_acc = [], []\n",
        "train_loss, val_loss = [], []\n",
        "\n",
        "\n",
        "num_epochs = 10\n",
        "\n",
        "for epoch in tqdm(range(num_epochs)):\n",
        "  for _ in range(num_batches):\n",
        "    x, y = next(batches)\n",
        "    params, opt_state, _loss = update(params, x, y, opt_state)\n",
        "\n",
        "\n",
        "  # Update parameters of the Network\n",
        "  params = get_params(opt_state)\n",
        "\n",
        "  train_loss.append(np.mean(loss(params, (train_images, train_labels)))/len(train_images))\n",
        "  val_loss.append(loss(params, (test_images, test_labels))/len(test_images))\n",
        "\n",
        "  train_acc_epoch = accuracy(params, (train_images, train_labels))\n",
        "  test_acc_epoch = accuracy(params, (test_images, test_labels))\n",
        "\n",
        "  train_acc.append(train_acc_epoch)\n",
        "  test_acc.append(test_acc_epoch)"
      ],
      "execution_count": null,
      "outputs": [
        {
          "output_type": "display_data",
          "data": {
            "application/vnd.jupyter.widget-view+json": {
              "model_id": "9a8698ab776a495e8566156761e56f8f",
              "version_minor": 0,
              "version_major": 2
            },
            "text/plain": [
              "HBox(children=(FloatProgress(value=0.0, max=10.0), HTML(value='')))"
            ]
          },
          "metadata": {
            "tags": []
          }
        },
        {
          "output_type": "stream",
          "text": [
            "\n"
          ],
          "name": "stdout"
        }
      ]
    },
    {
      "cell_type": "code",
      "metadata": {
        "id": "y-CNKkKObqaT",
        "colab": {
          "base_uri": "https://localhost:8080/",
          "height": 397
        },
        "outputId": "9264bb22-dfb1-4c90-f6cd-76f959502ec2"
      },
      "source": [
        "epochs = range(num_epochs)\n",
        "\n",
        "fig = plt.figure(figsize=(12,6))\n",
        "gs = fig.add_gridspec(1, 2)\n",
        "ax1 = fig.add_subplot(gs[0, 0])\n",
        "ax2 = fig.add_subplot(gs[0, 1])\n",
        "\n",
        "ax1.plot(epochs, train_loss, 'r', label='Training')\n",
        "ax1.plot(epochs, val_loss, 'b', label='Validation')\n",
        "ax1.set_xlabel('Epochs', size=16)\n",
        "ax1.set_ylabel('Loss', size=16)\n",
        "ax1.legend()\n",
        "\n",
        "ax2.plot(epochs, train_acc, 'r', label='Training')\n",
        "ax2.plot(epochs, test_acc, 'b', label='Validation')\n",
        "ax2.set_xlabel('Epochs', size=16)\n",
        "ax2.set_ylabel('Accuracy', size=16)\n",
        "ax2.legend()\n",
        "plt.show()"
      ],
      "execution_count": null,
      "outputs": [
        {
          "output_type": "display_data",
          "data": {
            "image/png": "[encoded data removed]",
            "text/plain": [
              "<Figure size 864x432 with 2 Axes>"
            ]
          },
          "metadata": {
            "tags": [],
            "needs_background": "light"
          }
        }
      ]
    },
    {
      "cell_type": "markdown",
      "metadata": {
        "id": "hEpQELWZb4Ts"
      },
      "source": [
        "Now we have successfully created and trained a neural network using JAX!"
      ]
    },
    {
      "cell_type": "markdown",
      "metadata": {
        "id": "otBmqVcbqFOz"
      },
      "source": [
        "------------------------"
      ]
    },
    {
      "cell_type": "markdown",
      "metadata": {
        "id": "8_MPswqEqGK1"
      },
      "source": [
        "# References\n",
        "\n",
        "- [Robert Lang Blog](https://roberttlange.github.io/posts/2020/03/blog-post-10/)\n",
        "\n",
        "- [JAX Quickstart](https://jax.readthedocs.io/en/stable/notebooks/quickstart.html)\n",
        "\n",
        "- [Training a Simple Neural Network, with tensorflow/datasets Data Loading](https://github.com/google/jax/blob/master/docs/notebooks/neural_network_with_tfds_data.ipynb)"
      ]
    }
  ]
}